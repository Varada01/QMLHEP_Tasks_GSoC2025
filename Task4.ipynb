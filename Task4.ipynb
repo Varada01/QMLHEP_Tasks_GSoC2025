{
  "cells": [
    {
      "cell_type": "markdown",
      "metadata": {
        "id": "B69aFsu7-C_M"
      },
      "source": [
        "# Task IV: Quantum Generative Adversarial Network (QGAN)\n",
        "You will explore how best to apply a quantum generative adversarial network (QGAN) to solve a High Energy Data analysis issue, more specifically, separating the signal events from the background events. You should use the Google Cirq and Tensorflow Quantum (TFQ) libraries for this task.\n",
        "A set of input samples (simulated with Delphes) is provided in NumPy NPZ format [Download Input]. In the input file, there are only 100 samples for training and 100 samples for testing so it won’t take much computing resources to accomplish this\n",
        "task. The signal events are labeled with 1 while the background events are labeled with 0.\n",
        "Be sure to show that you understand how to fine tune your machine learning model to improve the performance. The performance can be evaluated with classification accuracy or Area Under ROC Curve (AUC).\n"
      ]
    },
    {
      "cell_type": "markdown",
      "metadata": {
        "id": "Iqa9MJtGA4eo"
      },
      "source": [
        "\n",
        "\n",
        "---\n",
        "\n",
        "\n",
        "\n",
        "---\n",
        "\n"
      ]
    },
    {
      "cell_type": "markdown",
      "metadata": {
        "id": "rt_pxG3D_HFc"
      },
      "source": [
        "# What is QGAN?\n",
        "Quantum Generative Adversarial Networks (QGANs) are quantum machine learning models inspired by classical Generative Adversarial Networks (GANs). They consist of a **quantum generator** and a **classical or quantum discriminator** that compete to generate data resembling a target distribution. The generator produces quantum states that the discriminator evaluates, improving both components through iterative training.\n",
        "\n",
        "QGANs leverage quantum advantages, such as exponential Hilbert space growth, to model complex probability distributions efficiently. They have applications in financial modeling, data augmentation, and quantum simulation where classical GANs struggle with high-dimensional distributions.\n",
        "\n",
        "*Analogous to the competition between counterfeiters who have to produce fake currencies and the police who have to design methods to distinguish increasingly more convincing counterfeits from the real ones. This game has a Nash equilibrium where the fake coins become indistinguishable from the real ones and the authorities can no longer devise a method to discriminate the real currencies from the generated ones. Interestingly, theoretical proofs regarding the optimal points of adversarial training assume that the generator and discriminator have infinite capacity, i.e., they can encode arbitrary functions or probability distributions. Yet it is widely believed that classical computers cannot efficiently solve certain hard problems, so these optimal points may be intrinsically out of reach of classical models in many cases of interest.[1]*"
      ]
    },
    {
      "cell_type": "markdown",
      "metadata": {
        "id": "4MThh5QFBBBE"
      },
      "source": [
        "\n",
        "\n",
        "---\n",
        "\n",
        "\n",
        "\n",
        "---\n",
        "\n"
      ]
    },
    {
      "cell_type": "code",
      "execution_count": null,
      "metadata": {
        "id": "Hg3-j__kJK6z"
      },
      "outputs": [],
      "source": [
        "import cirq\n",
        "import tensorflow as tf\n",
        "import tensorflow_quantum as tfq\n",
        "from sklearn.metrics import roc_curve\n",
        "from sklearn.metrics import roc_auc_score\n",
        "import sympy\n",
        "import random\n",
        "import numpy as np\n",
        "import matplotlib.pyplot as plt\n",
        "from sklearn.preprocessing import StandardScaler\n",
        "from cirq.contrib.svg import SVGCircuit"
      ]
    },
    {
      "cell_type": "markdown",
      "metadata": {
        "id": "NqwHjnttBGiP"
      },
      "source": [
        "# Step1: Understanding the Dataset\n",
        "This dataset consists of simulated jet classification samples generated using Delphes, a fast detector simulation framework.\n",
        "\n",
        "**Dataset Overview:**\n",
        "*  **Total Samples: 200**\n",
        "*  Training Samples: 100\n",
        "*  Testing Samples: 100\n",
        "\n",
        "\n",
        "*  **Labels**:\n",
        "*  **Signal Events (1)** – Represent jets originating from the desired physics process.\n",
        "* **Background Events (0)** – Represent jets from other, less relevant processes.\n",
        "\n",
        "\n",
        "\n",
        "\n",
        "\n",
        "\n",
        "\n",
        "\n"
      ]
    },
    {
      "cell_type": "code",
      "execution_count": null,
      "metadata": {
        "id": "x-aepbJJJK64",
        "outputId": "532118b4-a94c-4443-8d38-f72889dac6c9"
      },
      "outputs": [
        {
          "name": "stdout",
          "output_type": "stream",
          "text": [
            "['training_input', 'test_input']\n"
          ]
        }
      ],
      "source": [
        "file_path = r\"C:\\Users\\vedav\\Downloads\\QIS_EXAM_200Events.npz\"\n",
        "data = np.load(file_path)\n",
        "print(data.files)"
      ]
    },
    {
      "cell_type": "code",
      "execution_count": null,
      "metadata": {
        "id": "5gWC2WTbJK67",
        "outputId": "c875a943-f6a8-4b1f-d6e6-a9adfbd68f9c"
      },
      "outputs": [
        {
          "name": "stdout",
          "output_type": "stream",
          "text": [
            "Dataset keys: ['training_input', 'test_input']\n",
            "Training samples shape: (100, 5)\n",
            "Training labels shape: (100,)\n",
            "Testing samples shape: (100, 5)\n",
            "Testing labels shape: (100,)\n"
          ]
        }
      ],
      "source": [
        "data = np.load(file_path, allow_pickle=True)\n",
        "print(\"Dataset keys:\", data.files)  # Ensure correct keys\n",
        "\n",
        "# Extract training and testing data\n",
        "train_data = data['training_input'].item()  # Convert to dictionary\n",
        "test_data = data['test_input'].item()       # Convert to dictionary\n",
        "\n",
        "# Combine signal (1) and background (0) events\n",
        "X_train = np.vstack([train_data['0'], train_data['1']])\n",
        "y_train = np.hstack([np.zeros(len(train_data['0'])), np.ones(len(train_data['1']))])\n",
        "X_test = np.vstack([test_data['0'], test_data['1']])\n",
        "y_test = np.hstack([np.zeros(len(test_data['0'])), np.ones(len(test_data['1']))])\n",
        "\n",
        "# Print shapes to verify correctness\n",
        "print(f\"Training samples shape: {X_train.shape}\")\n",
        "print(f\"Training labels shape: {y_train.shape}\")\n",
        "print(f\"Testing samples shape: {X_test.shape}\")\n",
        "print(f\"Testing labels shape: {y_test.shape}\")\n"
      ]
    },
    {
      "cell_type": "code",
      "execution_count": null,
      "metadata": {
        "id": "JnOqM5VvJK69",
        "outputId": "ffad7d32-9908-442a-8033-99320473a329"
      },
      "outputs": [
        {
          "data": {
            "image/png": "[encoded data removed]",
            "text/plain": [
              "<Figure size 600x400 with 1 Axes>"
            ]
          },
          "metadata": {},
          "output_type": "display_data"
        },
        {
          "data": {
            "image/png": "[encoded data removed]",
            "text/plain": [
              "<Figure size 2000x500 with 4 Axes>"
            ]
          },
          "metadata": {},
          "output_type": "display_data"
        }
      ],
      "source": [
        "plt.figure(figsize=(6,4))\n",
        "plt.hist(y_train, bins=2, edgecolor=\"black\", alpha=0.7)\n",
        "plt.xticks([0, 1])\n",
        "plt.xlabel(\"Event Type (0 = Background, 1 = Signal)\")\n",
        "plt.ylabel(\"Count\")\n",
        "plt.title(\"Distribution of Signal vs. Background Events\")\n",
        "plt.show()\n",
        "num_features = X_train.shape[1]  # Number of features in the dataset\n",
        "\n",
        "# Plot histograms for first few features\n",
        "fig, axes = plt.subplots(1, 4, figsize=(20,5))  # Adjust to plot more features if needed\n",
        "for i in range(4):  # Change this to plot more features\n",
        "    axes[i].hist(X_train[y_train == 0][:, i], bins=20, alpha=0.5, label=\"Background\", color=\"blue\", density=True)\n",
        "    axes[i].hist(X_train[y_train == 1][:, i], bins=20, alpha=0.5, label=\"Signal\", color=\"red\", density=True)\n",
        "    axes[i].set_title(f\"Feature {i+1}\")\n",
        "    axes[i].set_xlabel(\"Value\")\n",
        "    axes[i].set_ylabel(\"Density\")\n",
        "    axes[i].legend()\n",
        "\n",
        "plt.tight_layout()\n",
        "plt.show()"
      ]
    },
    {
      "cell_type": "markdown",
      "metadata": {
        "id": "IL5BIIZzEaTG"
      },
      "source": [
        "\n",
        "\n",
        "---\n",
        "\n",
        "\n",
        "\n",
        "---\n",
        "\n"
      ]
    },
    {
      "cell_type": "markdown",
      "metadata": {
        "id": "DlNYi0pQwCdL"
      },
      "source": [
        "# Step2: Data Encoding Circuit\n",
        "\n",
        "The data encoding circuit transforms classical high energy physics data into quantum states that can be processed by quantum algorithms. This is a crucial step because quantum computers operate on quantum information (qubits in superposition and entanglement states), not classical bits.\n",
        "\n",
        "Common encoding methods include amplitude encoding (representing data in probability amplitudes), angle encoding (encoding features as rotation angles of qubits), or basis encoding (direct binary representation)"
      ]
    },
    {
      "cell_type": "markdown",
      "metadata": {
        "id": "TpDAkshu0IO1"
      },
      "source": [
        "# Angle Encoding for HEP Data with 5 Features\n",
        "Angle encoding (also called rotation encoding) is a quantum encoding technique that maps classical data features to rotation angles of qubits.\n",
        "# Why Angle Encoding Is Useful for HEP Data\n",
        "Angle encoding offers several advantages for our signal/background classification task:\n",
        "* **Direct physical interpretation** : Rotation angles can represent physical quantities like angles, energies, or momenta that are common in HEP data.\n",
        "* **Efficient use of qubits** : Each feature requires only one qubit, making it resource-efficient for our 5-feature dataset.\n",
        "* **Expressive power**: Rotations can represent continuous values, preserving the fine-grained information in our data that might be crucial for signal/background separation.\n",
        "* **Compatible with variational circuits**: Angle-encoded data works seamlessly with the parameterized quantum circuits used in QGANs.\n",
        "* **Noise resilience**: Compared to some other encoding methods, angle encoding can be more robust to certain types of quantum noise.\n",
        "\n",
        "For HEP applications, where features often represent physical quantities with meaningful distributions, angle encoding provides a natural way to map this classical information into the quantum domain while preserving the important patterns needed for effective discrimination between signal and background events.\n",
        "\n",
        "\n",
        "\n"
      ]
    },
    {
      "cell_type": "markdown",
      "metadata": {
        "id": "0CdIpBcY2Y2x"
      },
      "source": [
        "# How Angle Encoding Works\n",
        "\n",
        "\n",
        "\n",
        "*   Each feature value is normalized, typically to the range [0, 2π]\n",
        "*   The normalized value is used as the rotation angle for a quantum gate\n",
        "*  Common rotation gates include Rx (rotation around X-axis), Ry (Y-axis), or Rz (Z-axis)\n",
        "\n",
        "For our 5-feature HEP dataset, we would typically use 5 qubits, with each qubit encoding one feature through rotation gates.\n",
        "\n",
        "\n",
        "\n",
        "\n"
      ]
    },
    {
      "cell_type": "code",
      "execution_count": null,
      "metadata": {
        "id": "JuTIqhlV-z1e",
        "outputId": "76880d15-6265-4b26-f625-de9c25153391"
      },
      "outputs": [
        {
          "name": "stdout",
          "output_type": "stream",
          "text": [
            "Modified label shapes: (100, 3) (100, 3)\n",
            "Example quantum circuit for a background event (label -1):\n",
            "(0, 0): ───Rx(-0.135π)───\n",
            "\n",
            "(0, 1): ───Rx(0.282π)────\n",
            "\n",
            "(0, 2): ───Ry(-0.298π)───\n",
            "\n",
            "(0, 3): ───Ry(-0.207π)───\n",
            "\n",
            "(0, 4): ───Ry(-0.125π)───\n",
            "\n",
            "Example quantum circuit for a signal event (label 1):\n",
            "(0, 0): ───Rx(-0.137π)───\n",
            "\n",
            "(0, 1): ───Rx(0.276π)────\n",
            "\n",
            "(0, 2): ───Ry(-0.295π)───\n",
            "\n",
            "(0, 3): ───Ry(-0.295π)───\n",
            "\n",
            "(0, 4): ───Ry(-0.181π)───\n"
          ]
        }
      ],
      "source": [
        "# Step 1: Convert labels from 0/1 to bipolar (-1/1) format and add an extra column\n",
        "def transform_labels(labels):\n",
        "    # Convert scalar labels to one-hot vectors: 0 -> [1,0] and 1 -> [0,1]\n",
        "    one_hot = tf.keras.utils.to_categorical(labels)\n",
        "    # Scale to bipolar: [1,0] becomes [1, -1] and [0,1] becomes [-1, 1]\n",
        "    bipolar = one_hot * 2 - 1\n",
        "    # Append an extra column of ones (can be used for bias or auxiliary info)\n",
        "    extra_col = np.ones((len(labels), 1))\n",
        "    return np.concatenate((bipolar, extra_col), axis=1)\n",
        "\n",
        "# Transform training and testing labels\n",
        "y_train_mod = transform_labels(y_train)\n",
        "y_test_mod = transform_labels(y_test)\n",
        "print(\"Modified label shapes:\", y_train_mod.shape, y_test_mod.shape)  # Expected: (100, 3) for both\n",
        "\n",
        "# Step 2: Encode classical features into quantum circuits using angle encoding.\n",
        "def encode_features_to_quantum(data, qubit_array):\n",
        "    \"\"\"Encodes classical data into quantum circuits using a mixed angle encoding.\n",
        "\n",
        "    For each sample, applies RX to the first half of the features and RY to the second half.\n",
        "    \"\"\"\n",
        "    quantum_circuits = []\n",
        "    for sample in data:\n",
        "        circuit = cirq.Circuit()\n",
        "        for idx, feature in enumerate(sample):\n",
        "            # Apply RX rotation for the first half of the features, RY for the rest.\n",
        "            if idx < len(sample) // 2:\n",
        "                circuit.append(cirq.rx(feature)(qubit_array[idx]))\n",
        "            else:\n",
        "                circuit.append(cirq.ry(feature)(qubit_array[idx]))\n",
        "        quantum_circuits.append(circuit)\n",
        "    return quantum_circuits\n",
        "\n",
        "# We have 5 features, so we create a 1x5 grid of qubits.\n",
        "quantum_register = cirq.GridQubit.rect(1, 5)\n",
        "\n",
        "# Step 3: Convert the classical data into quantum circuits, then into TFQ tensors.\n",
        "train_quantum_tensors = tfq.convert_to_tensor(encode_features_to_quantum(X_train, quantum_register))\n",
        "test_quantum_tensors = tfq.convert_to_tensor(encode_features_to_quantum(X_test, quantum_register))\n",
        "\n",
        "# Step 4: Inspect the quantum circuits for both event types.\n",
        "# Here we assume the first column in y_train_mod indicates the label:\n",
        "# - Background event: first element is -1 (from original 0 label)\n",
        "# - Signal event: first element is 1 (from original 1 label)\n",
        "print(\"Example quantum circuit for a background event (label -1):\")\n",
        "print(tfq.from_tensor(train_quantum_tensors)[y_train_mod[:, 0] == -1][0])\n",
        "print(\"\\nExample quantum circuit for a signal event (label 1):\")\n",
        "print(tfq.from_tensor(train_quantum_tensors)[y_train_mod[:, 0] == 1][0])"
      ]
    },
    {
      "cell_type": "markdown",
      "metadata": {
        "id": "6nn9WkkZJZ6e"
      },
      "source": [
        "\n",
        "\n",
        "---\n",
        "\n",
        "\n",
        "\n",
        "---\n",
        "\n"
      ]
    },
    {
      "cell_type": "markdown",
      "metadata": {
        "id": "BjJUxj78Jk1c"
      },
      "source": [
        "# Step3: Defining Quantum Generator\n",
        "A quantum generator is the component of a Quantum Generative Adversarial Network (QGAN) that aims to generate quantum states which mimic the distribution of the real data. Just like its classical counterpart in a GAN, it is a parameterized quantum circuit whose parameters are adjusted during training. When measured, the quantum circuit produces outcomes that should approximate the true data distribution, effectively creating synthetic data that is hard to distinguish from actual data by the discriminator.\n",
        "\n",
        "**Parameterized Quantum Circuit**\n",
        "*   **Structure**:The quantum generator is built as a parameterized (or variational) quantum circuit. This circuit contains a series of quantum gates (e.g., rotations, entangling gates) whose angles or other parameters can be adjusted.\n",
        "* **Variational Parameters**:These parameters are optimized during training so that the quantum circuit produces output states that resemble the target data distribution. Think of these parameters as analogous to the weights in a classical neural network.\n",
        "\n",
        "**Data Generation Process**\n",
        "* **Quantum State Preparation**:\n",
        "The generator takes an initial quantum state—often a simple state like\n",
        "∣0⟩\n",
        "^(⊗n)\n",
        "  (all qubits in the ground state)—and applies a sequence of parameterized gates.\n",
        "* **Encoding Randomness**:\n",
        "Similar to classical generators that use random noise vectors as input, the quantum generator can incorporate randomness through parameters or measurement outcomes, thereby introducing variability into the generated states.\n",
        "* **Measurement:**After the quantum circuit is applied, measurements are performed on the qubits. The measurement outcomes are interpreted as samples drawn from the generated quantum data distribution. This step transforms the quantum state into classical data that can be compared with real samples.\n",
        "\n",
        "**Loss Optimization:**\n",
        "\n",
        "During training, the loss function penalizes the generator when the discriminator successfully identifies its output as fake. Optimization algorithms (like gradient descent or quantum-aware versions thereof) adjust the variational parameters in the quantum generator, aiming to reduce this loss.\n",
        "\n",
        "**Example:**\n",
        "\n",
        "For instance, a quantum generator might consist of layers of single-qubit rotations (e.g., RX, RY, or RZ gates) and entangling gates (like CNOTs) arranged in a circuit. As the training proceeds, these layers are tuned to produce output states that, after measurement, yield data closely matching the statistical properties of the real dataset."
      ]
    },
    {
      "cell_type": "code",
      "execution_count": null,
      "metadata": {
        "id": "p7tBsCVUJK7D",
        "outputId": "db1a18a7-576c-4eaf-d13c-60aedc215445"
      },
      "outputs": [
        {
          "name": "stdout",
          "output_type": "stream",
          "text": [
            "(0, 0): ───Ry(0.154π)───Rz(theta_0)───Rx(theta_1)───Ry(theta_2)─────────────────────────────────────────────────────────────────────────────────────────────────────────────────────────────────────────────────────────────────────────────────────────────────────────────────────────────Rz(theta_18)───Rx(theta_19)───Ry(theta_20)────────────────────────────────────────────────@────────────Rz(theta_25)───Rx(theta_26)───Ry(theta_27)────────────────────────────────────────────────────────────────────────────────────────────────────────────────────────────────────────────────────────────────────────────────────────────────────────────────────────────────────────────────────────────────────────────────────────────────────────────────────────────────────────────────────────────────────────────────────────────────────────────────────────────────────────────────────────────────────────────────────────────────────────────────────────────────────────────────────────────────────────────────────────────────────────────────────────────────────────────────────────────────────────────────────────────────────────────────────────────────────────────────────────────────────────────────────────────────────────────────────────────────────────────────────Rz(theta_83)───Rx(theta_84)───Ry(theta_85)─────────────────────────────────────────────────────────────────────────────────────────────────────────────────────────────────────────────────────────────────────────────────────────────────────────────────────────────────────Rz(theta_101)───Rx(theta_102)───Ry(theta_103)───────────────────────────────────────────────────@─────────────Rz(theta_108)───Rx(theta_109)───Ry(theta_110)───────────────────────────────────────────────────────────────────────────────────────────────────────────────────────────────────────────────────────────────────────────────────────────────────────────────────────────────────────────────────────────────────────────────────────────────────────────────────────────────────────────────────────────────────────────────────────────────────────────────────────────────────────────────────────────────────────────────────────────────────────────────────────────────────────────────────────────────────────────────────────────────────────────────────────────────────────────────────────────────────────────────────────────────────────────────────────────────────────────────────────────────────────────────────────────────────────────────────────────────────────────────────────────────────────────────────────────────────────────Rz(theta_166)───Rx(theta_167)───Ry(theta_168)───────────────────────────────────────────────────────────────────────────────────────────────────\n",
            "                                                                                                                                                                                                                                                                                                                                                                                      │                                                                                                                                                                                                                                                                                                                                                                                                                                                                                                                                                                                                                                                                                                                                                                                                                                                                                                                                                                                                                                                                                                                                                                                                                                                                                         │\n",
            "(0, 1): ───Ry(0.358π)─────────────────────────────────────────────Rz(theta_3)───Rx(theta_4)───Ry(theta_5)────────────────────────────────────────────────────────────────────────────────────────────────────────────────────────────────────────────────────────────────────────────────────────────────────────────────────────────────Rz(theta_21)───Rx(theta_22)───Ry(theta_23)───@^theta_24────────────────────────────────────────────────Rz(theta_28)───Rx(theta_29)───Ry(theta_30)───Rz(theta_31)───Rx(theta_32)───Ry(theta_33)────────────────────────────────────────────────@────────────Rz(theta_38)───Rx(theta_39)───Ry(theta_40)────────────────────────────────────────────────────────────────────────────────────────────────────────────────────────────────────────────────────────────────────────────────────────────────────────────────────────────────────────────────────────────────────────────────────────────────────────────────────────────────────────────────────────────────────────────────────────────────────────────────────────────────────────────────────────────────────────────────────────────────────────────────────────────────────────────────────────────────────────────────────────────────────────────────────────────────────────────────────────────────────────────────────────────────Rz(theta_86)───Rx(theta_87)───Ry(theta_88)────────────────────────────────────────────────────────────────────────────────────────────────────────────────────────────────────────────────────────────────────────────────────────────────────────────────────────────────────────Rz(theta_104)───Rx(theta_105)───Ry(theta_106)───@^theta_107───────────────────────────────────────────────────Rz(theta_111)───Rx(theta_112)───Ry(theta_113)───Rz(theta_114)───Rx(theta_115)───Ry(theta_116)───────────────────────────────────────────────────@─────────────Rz(theta_121)───Rx(theta_122)───Ry(theta_123)─────────────────────────────────────────────────────────────────────────────────────────────────────────────────────────────────────────────────────────────────────────────────────────────────────────────────────────────────────────────────────────────────────────────────────────────────────────────────────────────────────────────────────────────────────────────────────────────────────────────────────────────────────────────────────────────────────────────────────────────────────────────────────────────────────────────────────────────────────────────────────────────────────────────────────────────────────────────────────────────────────────────────────────────────────────────────────────────────────────────Rz(theta_169)───Rx(theta_170)───Ry(theta_171)───────────────────────────────────────────────────\n",
            "                                                                                                                                                                                                                                                                                                                                                                                                                                                                                                                                                                                       │                                                                                                                                                                                                                                                                                                                                                                                                                                                                                                                                                                                                                                                                                                                                                                                                                                                                                                                                                                                                                                                                                                                                                                                                                                                                                                      │\n",
            "(0, 2): ───Ry(0.498π)───────────────────────────────────────────────────────────────────────────────────────Rz(theta_6)───Rx(theta_7)───Ry(theta_8)───────────────────────────────────────────────────────────────────────────────────────────────────────────────────────────────────────────────────────────────────────────────────────────────────────────────────────────────────────────────────────────────────────────────────────────────────────────────────────────────────────────────────────────────────────────────────────Rz(theta_34)───Rx(theta_35)───Ry(theta_36)───@^theta_37────────────────────────────────────────────────Rz(theta_41)───Rx(theta_42)───Ry(theta_43)───Rz(theta_44)───Rx(theta_45)───Ry(theta_46)────────────────────────────────────────────────@────────────Rz(theta_51)───Rx(theta_52)───Ry(theta_53)────────────────────────────────────────────────────────────────────────────────────────────────────────────────────────────────────────────────────────────────────────────────────────────────────────────────────────────────────────────────────────────────────────────────────────────────────────────────────────────────────────────────────────────────────────────────────────────────────────────────────────────────────────────────────────────────────────────────────────────────────────────────────────────────────────────Rz(theta_89)───Rx(theta_90)───Ry(theta_91)─────────────────────────────────────────────────────────────────────────────────────────────────────────────────────────────────────────────────────────────────────────────────────────────────────────────────────────────────────────────────────────────────────────────────────────────────────────────────────────────────────────────────────────────────────────────────────────────────────────Rz(theta_117)───Rx(theta_118)───Ry(theta_119)───@^theta_120───────────────────────────────────────────────────Rz(theta_124)───Rx(theta_125)───Ry(theta_126)───Rz(theta_127)───Rx(theta_128)───Ry(theta_129)───────────────────────────────────────────────────@─────────────Rz(theta_134)───Rx(theta_135)───Ry(theta_136)───────────────────────────────────────────────────────────────────────────────────────────────────────────────────────────────────────────────────────────────────────────────────────────────────────────────────────────────────────────────────────────────────────────────────────────────────────────────────────────────────────────────────────────────────────────────────────────────────────────────────────────────────────────────────────────────────────────────────────────────────────────────────────────────────────────────────────────────────────────────Rz(theta_172)───Rx(theta_173)───Ry(theta_174)───\n",
            "                                                                                                                                                                                                                                                                                                                                                                                                                                                                                                                                                                                                                                                                                                                                                                                        │                                                                                                                                                                                                                                                                                                                                                                                                                                                                                                                                                                                                                                                                                                                                                                                                                                                                                                                                                                                                                                                                                                                                                                                                                                                                                                                   │\n",
            "(0, 3): ───Ry(1.67π)──────────────────────────────────────────────────────────────────────────────────────────────────────────────────────────────────Rz(theta_9)───Rx(theta_10)───Ry(theta_11)────────────────────────────────────────────────────────────────────────────────────────────────────────────────────────────────────────────────────────────────────────────────────────────────────────────────────────────────────────────────────────────────────────────────────────────────────────────────────────────────────────────────────────────────────────────────────────────────────────────────────────────────────────────────────────────────────────────────────────────────────────────────────────────────────────────Rz(theta_47)───Rx(theta_48)───Ry(theta_49)───@^theta_50────────────────────────────────────────────────Rz(theta_54)───Rx(theta_55)───Ry(theta_56)───Rz(theta_57)───Rx(theta_58)───Ry(theta_59)────────────────────────────────────────────────@────────────Rz(theta_64)───Rx(theta_65)───Ry(theta_66)────────────────────────────────────────────────────────────────────────────────────────────────────────────────────────────────────────────────────────────────────────────────────────────────────────────────────────────────────────────────────────────────────────────────────────────────────────────────────────────────────────────────────────────────────────────────────────Rz(theta_92)───Rx(theta_93)───Ry(theta_94)──────────────────────────────────────────────────────────────────────────────────────────────────────────────────────────────────────────────────────────────────────────────────────────────────────────────────────────────────────────────────────────────────────────────────────────────────────────────────────────────────────────────────────────────────────────────────────────────────────────────────────────────────────────────────────────────────────────────────────────────────────────────────────────────────────────────────────────────────────────Rz(theta_130)───Rx(theta_131)───Ry(theta_132)───@^theta_133───────────────────────────────────────────────────Rz(theta_137)───Rx(theta_138)───Ry(theta_139)───Rz(theta_140)───Rx(theta_141)───Ry(theta_142)───────────────────────────────────────────────────@─────────────Rz(theta_147)───Rx(theta_148)───Ry(theta_149)─────────────────────────────────────────────────────────────────────────────────────────────────────────────────────────────────────────────────────────────────────────────────────────────────────────────────────────────────────────────────────────────────────────────────────────────────────────────────────────────────────────────────────────────────────────────────────────────────────────────────\n",
            "                                                                                                                                                                                                                                                                                                                                                                                                                                                                                                                                                                                                                                                                                                                                                                                                                                                                                                                                                                                         │                                                                                                                                                                                                                                                                                                                                                                                                                                                                                                                                                                                                                                                                                                                                                                                                                                                                                                                                                                                                                                                                                                                                                                                                                                                                                                                                │\n",
            "(0, 4): ───Ry(1.08π)──────────────────────────────────────────────────────────────────────────────────────────────────────────────────────────────────────────────────────────────────────────────Rz(theta_12)───Rx(theta_13)───Ry(theta_14)────────────────────────────────────────────────────────────────────────────────────────────────────────────────────────────────────────────────────────────────────────────────────────────────────────────────────────────────────────────────────────────────────────────────────────────────────────────────────────────────────────────────────────────────────────────────────────────────────────────────────────────────────────────────────────────────────────────────────────────────────────────────────────────────────────────────────────────────────────────────────────────────────────────────────────────────────────────────────────────────────────────────────────────────Rz(theta_60)───Rx(theta_61)───Ry(theta_62)───@^theta_63────────────────────────────────────────────────Rz(theta_67)───Rx(theta_68)───Ry(theta_69)───Rz(theta_70)───Rx(theta_71)───Ry(theta_72)────────────────────────────────────────────────@────────────Rz(theta_77)───Rx(theta_78)───Ry(theta_79)────────────────────────────────────────────────────────────────────────────────────────────────────────────────────────────────────────────────────────────────────────────────────────────────────────────────────────────────────Rz(theta_95)───Rx(theta_96)───Ry(theta_97)───────────────────────────────────────────────────────────────────────────────────────────────────────────────────────────────────────────────────────────────────────────────────────────────────────────────────────────────────────────────────────────────────────────────────────────────────────────────────────────────────────────────────────────────────────────────────────────────────────────────────────────────────────────────────────────────────────────────────────────────────────────────────────────────────────────────────────────────────────────────────────────────────────────────────────────────────────────────────────────────────────────────────────────────────────────────────────────────────────────Rz(theta_143)───Rx(theta_144)───Ry(theta_145)───@^theta_146───────────────────────────────────────────────────Rz(theta_150)───Rx(theta_151)───Ry(theta_152)───Rz(theta_153)───Rx(theta_154)───Ry(theta_155)───────────────────────────────────────────────────@─────────────Rz(theta_160)───Rx(theta_161)───Ry(theta_162)───────────────────────────────────────────────────────────────────────────────────────────────────────────────────────────────────────────────────────────────────────────────────────────────────\n",
            "                                                                                                                                                                                                                                                                                                                                                                                                                                                                                                                                                                                                                                                                                                                                                                                                                                                                                                                                                                                                                                                                                                                                                                                          │                                                                                                                                                                                                                                                                                                                                                                                                                                                                                                                                                                                                                                                                                                                                                                                                                                                                                                                                                                                                                                                                                                                                                                                                                                                                                                                                             │\n",
            "(0, 5): ───Ry(1.43π)───────────────────────────────────────────────────────────────────────────────────────────────────────────────────────────────────────────────────────────────────────────────────────────────────────────────────────────Rz(theta_15)───Rx(theta_16)───Ry(theta_17)────────────────────────────────────────────────────────────────────────────────────────────────────────────────────────────────────────────────────────────────────────────────────────────────────────────────────────────────────────────────────────────────────────────────────────────────────────────────────────────────────────────────────────────────────────────────────────────────────────────────────────────────────────────────────────────────────────────────────────────────────────────────────────────────────────────────────────────────────────────────────────────────────────────────────────────────────────────────────────────────────────────────────────────────────────────────────────────────────────────────────────────────────────────────────────────────────────────────────────────────────────────────────Rz(theta_73)───Rx(theta_74)───Ry(theta_75)───@^theta_76────────────────────────────────────────────────Rz(theta_80)───Rx(theta_81)───Ry(theta_82)────────────────────────────────────────────────────────────────────────────────────────────────────────────────────────────────────────────────────────────────────────────────────────────────────────────────────────────────────Rz(theta_98)───Rx(theta_99)───Ry(theta_100)───────────────────────────────────────────────────────────────────────────────────────────────────────────────────────────────────────────────────────────────────────────────────────────────────────────────────────────────────────────────────────────────────────────────────────────────────────────────────────────────────────────────────────────────────────────────────────────────────────────────────────────────────────────────────────────────────────────────────────────────────────────────────────────────────────────────────────────────────────────────────────────────────────────────────────────────────────────────────────────────────────────────────────────────────────────────────────────────────────────────────────────────────────────────────────────────────────────────────────────────────────────────────────────────────────────────────────────────────────────Rz(theta_156)───Rx(theta_157)───Ry(theta_158)───@^theta_159───────────────────────────────────────────────────Rz(theta_163)───Rx(theta_164)───Ry(theta_165)───────────────────────────────────────────────────────────────────────────────────────────────────────────────────────────────────────────────────\n"
          ]
        }
      ],
      "source": [
        "def custom_one_qubit_gate(q, angle_params):\n",
        "    \"\"\"Applies a sequence of rotations about the Z, X, and Y axes in that order.\"\"\"\n",
        "    return cirq.Circuit(\n",
        "        cirq.rz(angle_params[0])(q),\n",
        "        cirq.rx(angle_params[1])(q),\n",
        "        cirq.ry(angle_params[2])(q)\n",
        "    )\n",
        "\n",
        "def custom_two_qubit_gate(q1, q2, angle_params):\n",
        "    \"\"\"Constructs a two-qubit operation by applying custom one-qubit gates to each qubit,\n",
        "    followed by an entangling CZ gate raised to a parameter, and concluding with additional rotations.\n",
        "\n",
        "    Expects angle_params to have 13 elements:\n",
        "      - First 3 for q1, next 3 for q2,\n",
        "      - One for the CZ entangling gate,\n",
        "      - Final 6 for additional rotations (3 for q1, 3 for q2).\n",
        "    \"\"\"\n",
        "    circuit = cirq.Circuit()\n",
        "    # First round of single-qubit gates\n",
        "    circuit += custom_one_qubit_gate(q1, angle_params[0:3])\n",
        "    circuit += custom_one_qubit_gate(q2, angle_params[3:6])\n",
        "    # Entangling operation using CZ raised to a given power\n",
        "    circuit.append(cirq.CZ(q1, q2)**angle_params[6])\n",
        "    # Second round of single-qubit gates\n",
        "    circuit += custom_one_qubit_gate(q1, angle_params[7:10])\n",
        "    circuit += custom_one_qubit_gate(q2, angle_params[10:13])\n",
        "    return circuit\n",
        "\n",
        "def custom_generator_circuit(qubits, param_list, num_layers=1):\n",
        "    \"\"\"\n",
        "    Builds a custom parameterized quantum generator circuit.\n",
        "\n",
        "    Args:\n",
        "        qubits (list[cirq.Qid]): List of qubits used in the circuit.\n",
        "            All qubits are involved in the generation process.\n",
        "        param_list (list or array-like): List of parameters (numeric or sympy.Symbol) for the gate operations.\n",
        "        num_layers (int, optional): The number of circuit layers. Defaults to 1.\n",
        "\n",
        "    Returns:\n",
        "        cirq.Circuit: The constructed quantum generator circuit.\n",
        "    \"\"\"\n",
        "    circuit = cirq.Circuit()\n",
        "    num_qubits = len(qubits)\n",
        "\n",
        "    # --- Initial Rotations ---\n",
        "    # Apply a random RY rotation to each qubit using uniformly random angles.\n",
        "    init_angles = np.random.uniform(0, 2*np.pi, num_qubits)\n",
        "    for i, q in enumerate(qubits):\n",
        "        circuit.append(cirq.ry(init_angles[i])(q))\n",
        "\n",
        "    # Keep track of our current position in the parameter list.\n",
        "    param_idx = 0\n",
        "\n",
        "    # --- Layered Circuit Structure ---\n",
        "    for layer in range(num_layers):\n",
        "        # Sub-layer A: Apply single-qubit rotations to each qubit.\n",
        "        for i, q in enumerate(qubits):\n",
        "            # Each qubit gets 3 parameters\n",
        "            angles = param_list[param_idx:param_idx+3]\n",
        "            param_idx += 3\n",
        "            circuit += custom_one_qubit_gate(q, angles)\n",
        "\n",
        "        # Sub-layer B: Introduce entanglement between adjacent qubits.\n",
        "        for i in range(num_qubits - 1):\n",
        "            # For each adjacent pair, use 13 parameters in the custom two-qubit gate.\n",
        "            two_qubit_params = param_list[param_idx:param_idx+13]\n",
        "            param_idx += 13\n",
        "            circuit += custom_two_qubit_gate(qubits[i], qubits[i+1], two_qubit_params)\n",
        "\n",
        "    # --- Final Adjustment ---\n",
        "    # Optionally, apply an extra round of one-qubit rotations to the first half of the qubits.\n",
        "    half = num_qubits // 2\n",
        "    for i in range(half):\n",
        "        angles = param_list[param_idx:param_idx+3]\n",
        "        param_idx += 3\n",
        "        circuit += custom_one_qubit_gate(qubits[i], angles)\n",
        "\n",
        "    return circuit\n",
        "\n",
        "# Example usage:\n",
        "# Create a list of 6 qubits for the generator.\n",
        "qubit_list = cirq.GridQubit.rect(1, 6)\n",
        "\n",
        "# Assume we have a total of 6 qubits, num_layers=2, then we need to supply enough parameters.\n",
        "# For each layer:\n",
        "#   - Single-qubit operations: 6 qubits * 3 = 18 parameters.\n",
        "#   - Entangling gates: 5 pairs * 13 = 65 parameters.\n",
        "# For 2 layers: (18 + 65)*2 = 166 parameters.\n",
        "# Plus final adjustments on half (3 qubits * 3 = 9 parameters).\n",
        "# Total = 166 + 9 = 175 parameters.\n",
        "# Here we create a list of symbolic parameters for demonstration.\n",
        "params = [sympy.Symbol(f'theta_{i}') for i in range(175)]\n",
        "generator_circuit = custom_generator_circuit(qubit_list, params, num_layers=2)\n",
        "print(generator_circuit)"
      ]
    },
    {
      "cell_type": "markdown",
      "source": [
        "\n",
        "\n",
        "---\n",
        "\n",
        "\n",
        "\n",
        "---\n",
        "\n"
      ],
      "metadata": {
        "id": "12iHa5S7V2L-"
      }
    },
    {
      "cell_type": "markdown",
      "source": [
        "# Step4: Defining Quantum Discriminator\n",
        "A quantum discriminator is a parameterized quantum circuit designed to evaluate whether an input quantum state is real (from the actual dataset) or fake (generated by the quantum generator). It processes quantum data through layers of single-qubit rotations and entangling gates, ultimately producing a measurement that serves as a classification output. During adversarial training, the discriminator's goal is to maximize its ability to distinguish between genuine and synthetic quantum states, thereby driving the generator to improve the quality of its produced states.\n",
        "\n",
        "\n",
        "\n",
        "\n",
        "\n",
        "\n",
        "\n",
        "\n"
      ],
      "metadata": {
        "id": "piUqdPG5V35h"
      }
    },
    {
      "cell_type": "code",
      "execution_count": null,
      "metadata": {
        "id": "6--F_RwRVleY",
        "outputId": "483f5332-4933-47b9-ca67-52d58ad4e69a"
      },
      "outputs": [
        {
          "name": "stdout",
          "output_type": "stream",
          "text": [
            "(0, 0): ───Rx(phi_0)───Rz(phi_1)───Rx(phi_2)───────────────────────────────────────────────────────────────────────────────────────────────────────────────────────────────────────────────────────────────────────────────────────────────Rx(phi_18)───Rz(phi_19)───Rx(phi_20)───@──────────────────────────────────────────@──────────Rx(phi_25)───Rz(phi_26)───Rx(phi_27)───────────────────────────────────────────────────────────────────────────────────────────────────────────────────────────────────────────────────────────────────────────────────────────────────────────────────────────────────────────────────────────────────────────────────────────────────────────────────────────────────────────────────────────────────────────────────────────────────────────────────────────────────────────────────────────────────────────────────────────────────────────────────────────────────────────────────Rx(phi_68)───Rz(phi_69)───Rx(phi_70)──────────────────────────────────────────────────────────────────────────────────────────────────────────────────────────────────────────────────────────────────────────────────────────────────────Rx(phi_86)───Rz(phi_87)───Rx(phi_88)───@──────────────────────────────────────────@──────────Rx(phi_93)───Rz(phi_94)───Rx(phi_95)───M('result')──────────────────────────────────────────────────────────────────────────────────────────────────────────────────────────────────────────────────────────────────────────────────────────────────────────────────────────────────────────────────────────────────────────────────────────────────────────────────────────────────────────────────────────────────────────────────────────────────────────────────────────────────────────────────────────────────────────────────────────────────────────────────────────────────────────────────────────────────────────\n",
            "                                                                                                                                                                                                                                                                                  │                                          │                                                                                                                                                                                                                                                                                                                                                                                                                                                                                                                                                                                                                                                                                                                                                                                                                                                                                  │                                          │\n",
            "(0, 1): ───────────────────────────────────────Rx(phi_3)───Rz(phi_4)───Rx(phi_5)──────────────────────────────────────────────────────────────────────────────────────────────────────────────────────────────────────────────────────────────────────────────────────────────────X───Rx(phi_21)───Rz(phi_22)───Rx(phi_23)───@^phi_24──────────────────────────────────────────Rx(phi_28)───Rz(phi_29)───Rx(phi_30)───@──────────────────────────────────────────@──────────Rx(phi_35)───Rz(phi_36)───Rx(phi_37)──────────────────────────────────────────────────────────────────────────────────────────────────────────────────────────────────────────────────────────────────────────────────────────────────────────────────────────────────────────────────────────────────────────────────────────────────────────────────────────────────────────────────────────────────────────────────────────────────────────────────────────────────────────────────────Rx(phi_71)───Rz(phi_72)───Rx(phi_73)──────────────────────────────────────────────────────────────────────────────────────────────────────────────────────────────────────────────────────────────────────────────────────────────────────X───Rx(phi_89)───Rz(phi_90)───Rx(phi_91)───@^phi_92──────────────────────────────────────────Rx(phi_96)────Rz(phi_97)───Rx(phi_98)───@────────────────────────────────────────────@───────────Rx(phi_103)───Rz(phi_104)───Rx(phi_105)─────────────────────────────────────────────────────────────────────────────────────────────────────────────────────────────────────────────────────────────────────────────────────────────────────────────────────────────────────────────────────────────────────────────────────────────────────────────────────────────────────────────────────────────────────────────────────────────────────────────────────────────────────────────\n",
            "                                                                                                                                                                                                                                                                                                                                                                                                                      │                                          │                                                                                                                                                                                                                                                                                                                                                                                                                                                                                                                                                                                                                                                                                                                                                                                                                                                                                   │                                            │\n",
            "(0, 2): ───────────────────────────────────────────────────────────────────────────Rx(phi_6)───Rz(phi_7)───Rx(phi_8)──────────────────────────────────────────────────────────────────────────────────────────────────────────────────────────────────────────────────────────────────────────────────────────────────────────────────────────────────────────────────────────────────────────────────────────────────X───Rx(phi_31)───Rz(phi_32)───Rx(phi_33)───@^phi_34──────────────────────────────────────────Rx(phi_38)───Rz(phi_39)───Rx(phi_40)───@──────────────────────────────────────────@──────────Rx(phi_45)───Rz(phi_46)───Rx(phi_47)─────────────────────────────────────────────────────────────────────────────────────────────────────────────────────────────────────────────────────────────────────────────────────────────────────────────────────────────────────────────────────────────────────────────────────────────────────────────────────────────────────────────────────────Rx(phi_74)───Rz(phi_75)───Rx(phi_76)────────────────────────────────────────────────────────────────────────────────────────────────────────────────────────────────────────────────────────────────────────────────────────────────────────────────────────────────────────────────────────────────────────────────────────────────────X───Rx(phi_99)───Rz(phi_100)───Rx(phi_101)───@^phi_102─────────────────────────────────────────────Rx(phi_106)───Rz(phi_107)───Rx(phi_108)───@─────────────────────────────────────────────@───────────Rx(phi_113)───Rz(phi_114)───Rx(phi_115)───────────────────────────────────────────────────────────────────────────────────────────────────────────────────────────────────────────────────────────────────────────────────────────────────────────────────────────────────────────────────────────────────────────────────────────────\n",
            "                                                                                                                                                                                                                                                                                                                                                                                                                                                                                                                                                          │                                          │                                                                                                                                                                                                                                                                                                                                                                                                                                                                                                                                                                                                                                                                                                                                                                                                                                                                                            │                                             │\n",
            "(0, 3): ───────────────────────────────────────────────────────────────────────────────────────────────────────────────Rx(phi_9)───Rz(phi_10)───Rx(phi_11)────────────────────────────────────────────────────────────────────────────────────────────────────────────────────────────────────────────────────────────────────────────────────────────────────────────────────────────────────────────────────────────────────────────────────────────────────────────────────────────────────────────────────────────────────────────────────────────────X───Rx(phi_41)───Rz(phi_42)───Rx(phi_43)───@^phi_44──────────────────────────────────────────Rx(phi_48)───Rz(phi_49)───Rx(phi_50)───@──────────────────────────────────────────@──────────Rx(phi_55)───Rz(phi_56)───Rx(phi_57)────────────────────────────────────────────────────────────────────────────────────────────────────────────────────────────────────────────────────────────────────────────────────────────────────────────────────────────────────────────────────────────Rx(phi_77)───Rz(phi_78)───Rx(phi_79)──────────────────────────────────────────────────────────────────────────────────────────────────────────────────────────────────────────────────────────────────────────────────────────────────────────────────────────────────────────────────────────────────────────────────────────────────────────────────────────────────────────────────────────────────────────────────────────────────────────X───Rx(phi_109)───Rz(phi_110)───Rx(phi_111)───@^phi_112─────────────────────────────────────────────Rx(phi_116)───Rz(phi_117)───Rx(phi_118)───@─────────────────────────────────────────────@───────────Rx(phi_123)───Rz(phi_124)───Rx(phi_125)─────────────────────────────────────────────────────────────────────────────────────────────────────────────────────────────────────────────────\n",
            "                                                                                                                                                                                                                                                                                                                                                                                                                                                                                                                                                                                                                                                                                              │                                          │                                                                                                                                                                                                                                                                                                                                                                                                                                                                                                                                                                                                                                                                                                                                                                                                                                                                                                      │                                             │\n",
            "(0, 4): ─────────────────────────────────────────────────────────────────────────────────────────────────────────────────────────────────────────────────────Rx(phi_12)───Rz(phi_13)───Rx(phi_14)─────────────────────────────────────────────────────────────────────────────────────────────────────────────────────────────────────────────────────────────────────────────────────────────────────────────────────────────────────────────────────────────────────────────────────────────────────────────────────────────────────────────────────────────────────────────────────────────────────────────────────────────────────────────────────────────────────────────────────────────X───Rx(phi_51)───Rz(phi_52)───Rx(phi_53)───@^phi_54──────────────────────────────────────────Rx(phi_58)───Rz(phi_59)───Rx(phi_60)───@──────────────────────────────────────────@──────────Rx(phi_65)───Rz(phi_66)───Rx(phi_67)───────────────────────────────────────────────────────────────────────────────────────────────────────────────────────────────────────────────────────────────Rx(phi_80)───Rz(phi_81)───Rx(phi_82)─────────────────────────────────────────────────────────────────────────────────────────────────────────────────────────────────────────────────────────────────────────────────────────────────────────────────────────────────────────────────────────────────────────────────────────────────────────────────────────────────────────────────────────────────────────────────────────────────────────────────────────────────────────────────────────────────────────────────────────────────────────────────X───Rx(phi_119)───Rz(phi_120)───Rx(phi_121)───@^phi_122─────────────────────────────────────────────Rx(phi_126)───Rz(phi_127)───Rx(phi_128)───@─────────────────────────────────────────────@───────────Rx(phi_133)───Rz(phi_134)───Rx(phi_135)───\n",
            "                                                                                                                                                                                                                                                                                                                                                                                                                                                                                                                                                                                                                                                                                                                                                                                                                                  │                                          │                                                                                                                                                                                                                                                                                                                                                                                                                                                                                                                                                                                                                                                                                                                                                                                                                                                                                                                │                                             │\n",
            "(0, 5): ────────────────────────────────────────────────────────────────────────────────────────────────────────────────────────────────────────────────────────────────────────────────────────────Rx(phi_15)───Rz(phi_16)───Rx(phi_17)──────────────────────────────────────────────────────────────────────────────────────────────────────────────────────────────────────────────────────────────────────────────────────────────────────────────────────────────────────────────────────────────────────────────────────────────────────────────────────────────────────────────────────────────────────────────────────────────────────────────────────────────────────────────────────────────────────────────────────────────────────────────────────────────────────────────────────────────────────────────────────────X───Rx(phi_61)───Rz(phi_62)───Rx(phi_63)───@^phi_64─────────────────────────────────────────────────────────────────────────────────────────────────────────────────────────────────────────────────────────────────────────────────────────────────────────────────────────────────────────────Rx(phi_83)───Rz(phi_84)───Rx(phi_85)────────────────────────────────────────────────────────────────────────────────────────────────────────────────────────────────────────────────────────────────────────────────────────────────────────────────────────────────────────────────────────────────────────────────────────────────────────────────────────────────────────────────────────────────────────────────────────────────────────────────────────────────────────────────────────────────────────────────────────────────────────────────────────────────────────────────────────────────────────────────────────────────────────────────────────X───Rx(phi_129)───Rz(phi_130)───Rx(phi_131)───@^phi_132─────────────────────────────────────────────\n"
          ]
        }
      ],
      "source": [
        "import numpy as np\n",
        "import cirq\n",
        "import sympy\n",
        "\n",
        "def disc_single_qubit_gate(q, angle_vals):\n",
        "    \"\"\"\n",
        "    Applies a custom single-qubit gate to qubit 'q' using the sequence RX -> RZ -> RX.\n",
        "\n",
        "    Args:\n",
        "        q (cirq.Qid): The qubit to operate on.\n",
        "        angle_vals (list): List of 3 rotation parameters.\n",
        "\n",
        "    Returns:\n",
        "        cirq.Circuit: A circuit segment implementing the gate.\n",
        "    \"\"\"\n",
        "    return cirq.Circuit(\n",
        "        cirq.rx(angle_vals[0])(q),\n",
        "        cirq.rz(angle_vals[1])(q),\n",
        "        cirq.rx(angle_vals[2])(q)\n",
        "    )\n",
        "\n",
        "def disc_two_qubit_gate(q1, q2, angle_vals):\n",
        "    \"\"\"\n",
        "    Constructs a custom two-qubit gate that entangles q1 and q2.\n",
        "    This gate applies:\n",
        "      - A single-qubit gate on q1,\n",
        "      - A CNOT from q1 to q2,\n",
        "      - A single-qubit gate on q2,\n",
        "      - A CZ gate raised to a parameter,\n",
        "      - A final single-qubit gate on q1.\n",
        "\n",
        "    Expects angle_vals to be a list of 10 parameters:\n",
        "      - First 3 for q1,\n",
        "      - Next 3 for q2,\n",
        "      - One for the CZ entanglement,\n",
        "      - Final 3 for an extra rotation on q1.\n",
        "\n",
        "    Args:\n",
        "        q1 (cirq.Qid): First qubit.\n",
        "        q2 (cirq.Qid): Second qubit.\n",
        "        angle_vals (list): List of 10 parameters.\n",
        "\n",
        "    Returns:\n",
        "        cirq.Circuit: A circuit segment implementing the two-qubit operation.\n",
        "    \"\"\"\n",
        "    circuit = cirq.Circuit()\n",
        "    circuit += disc_single_qubit_gate(q1, angle_vals[0:3])\n",
        "    circuit.append(cirq.CNOT(q1, q2))\n",
        "    circuit += disc_single_qubit_gate(q2, angle_vals[3:6])\n",
        "    circuit.append(cirq.CZ(q1, q2)**angle_vals[6])\n",
        "    circuit += disc_single_qubit_gate(q1, angle_vals[7:10])\n",
        "    return circuit\n",
        "\n",
        "def custom_discriminator_circuit(qubits, param_list, num_layers=1):\n",
        "    \"\"\"\n",
        "    Builds a custom parameterized quantum discriminator circuit using 6 qubits.\n",
        "\n",
        "    This circuit applies single-qubit rotations and entangling two-qubit gates across multiple layers.\n",
        "    The final measurement on a designated qubit produces a classical output for discrimination.\n",
        "\n",
        "    Args:\n",
        "        qubits (list[cirq.Qid]): List of 6 qubits to be used in the circuit.\n",
        "        param_list (list or array-like): List of parameters (numeric or sympy.Symbol) for the gate operations.\n",
        "        num_layers (int, optional): Number of layers in the circuit. Defaults to 1.\n",
        "\n",
        "    Returns:\n",
        "        cirq.Circuit: The constructed discriminator circuit.\n",
        "    \"\"\"\n",
        "    circuit = cirq.Circuit()\n",
        "    num_qubits = len(qubits)\n",
        "    param_idx = 0\n",
        "\n",
        "    # For each layer, apply single-qubit gates and two-qubit entangling gates between adjacent qubits.\n",
        "    for layer in range(num_layers):\n",
        "        # Single-qubit operations: Each of 6 qubits gets 3 parameters → 6*3 = 18 parameters per layer.\n",
        "        for i, q in enumerate(qubits):\n",
        "            angles = param_list[param_idx:param_idx+3]\n",
        "            param_idx += 3\n",
        "            circuit += disc_single_qubit_gate(q, angles)\n",
        "\n",
        "        # Entangling operations: For 6 qubits, there are 5 adjacent pairs, each requiring 10 parameters → 5*10 = 50 per layer.\n",
        "        for i in range(num_qubits - 1):\n",
        "            two_qubit_angles = param_list[param_idx:param_idx+10]\n",
        "            param_idx += 10\n",
        "            circuit += disc_two_qubit_gate(qubits[i], qubits[i+1], two_qubit_angles)\n",
        "\n",
        "    # Final measurement: measure the first qubit (or you could measure multiple qubits) to yield the discriminator output.\n",
        "    circuit.append(cirq.measure(qubits[0], key='result'))\n",
        "\n",
        "    return circuit\n",
        "\n",
        "# Example usage with 6 qubits and 2 layers:\n",
        "num_qubits_disc = 6\n",
        "qubit_set_disc = cirq.GridQubit.rect(1, num_qubits_disc)\n",
        "\n",
        "# Parameter count per layer:\n",
        "# - Single-qubit gates: 6 * 3 = 18 parameters.\n",
        "# - Two-qubit gates: 5 pairs * 10 = 50 parameters.\n",
        "# Total per layer = 18 + 50 = 68 parameters.\n",
        "# For 2 layers: 68 * 2 = 136 parameters.\n",
        "params_disc = [sympy.Symbol(f'phi_{i}') for i in range(136)]\n",
        "\n",
        "discriminator_circuit = custom_discriminator_circuit(qubit_set_disc, params_disc, num_layers=2)\n",
        "print(discriminator_circuit)\n"
      ]
    },
    {
      "cell_type": "markdown",
      "source": [
        "\n",
        "\n",
        "---\n",
        "\n",
        "\n",
        "\n",
        "---\n",
        "\n"
      ],
      "metadata": {
        "id": "h1CAb-olWPIP"
      }
    },
    {
      "cell_type": "markdown",
      "source": [
        "#  Step5: Defining the Loss Functions\n",
        "\n",
        "\n",
        "* **Adversarial Loss:** We develop separate loss functions for the generator and discriminator. For example, the discriminator should correctly classify real vs. fake samples, while the generator should try to \"fool\" the discriminator.\n",
        "\n",
        "**Discriminator Loss:**\n",
        "The discriminator’s loss is designed to penalize misclassification of both real (encoded from the data) and fake (generated by the quantum generator) samples. A common approach is to use binary cross-entropy loss. For real samples\n",
        "𝑥\n",
        " (which should be classified as 1) and fake samples\n",
        "𝐺\n",
        "(\n",
        "𝑧\n",
        ")\n",
        "(which should be classified as 0), the loss can be formulated as:\n",
        "![image.png](data:image/png;base64,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)\n",
        "\n",
        "\n",
        "\n"
      ],
      "metadata": {
        "id": "sgD2CR-PWaL7"
      }
    },
    {
      "cell_type": "markdown",
      "source": [
        "**Generator Loss**:\n",
        "The generator’s goal is to \"fool\" the discriminator, meaning it aims to generate samples that the discriminator classifies as real. Thus, its loss encourages the discriminator’s output on generated samples\n",
        "𝐺\n",
        "(\n",
        "𝑧\n",
        ")\n",
        " to be high (close to 1). This is also typically implemented with binary cross-entropy:\n",
        " ![image.png](data:image/png;base64,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)"
      ],
      "metadata": {
        "id": "inD4MEQXaZ64"
      }
    },
    {
      "cell_type": "markdown",
      "source": [
        "* **Metric-Based Loss:**Consider incorporating metrics like classification accuracy or AUC as part of your evaluation."
      ],
      "metadata": {
        "id": "PALnG3feaX0g"
      }
    },
    {
      "cell_type": "code",
      "source": [
        "import tensorflow as tf\n",
        "\n",
        "def discriminator_loss(real_output, fake_output):\n",
        "    \"\"\"\n",
        "    Computes the discriminator loss using hinge loss for bipolar labels.\n",
        "\n",
        "    Args:\n",
        "        real_output: Discriminator predictions for real samples.\n",
        "        fake_output: Discriminator predictions for fake (generated) samples.\n",
        "\n",
        "    Returns:\n",
        "        Total discriminator loss.\n",
        "    \"\"\"\n",
        "    # For real samples, we want D(x) to be >= 1. Otherwise, loss = 1 - D(x)\n",
        "    real_loss = tf.reduce_mean(tf.nn.relu(1 - real_output))\n",
        "\n",
        "    # For fake samples, we want D(G(z)) to be <= -1. Otherwise, loss = 1 + D(G(z))\n",
        "    fake_loss = tf.reduce_mean(tf.nn.relu(1 + fake_output))\n",
        "\n",
        "    return real_loss + fake_loss\n",
        "\n",
        "def generator_loss(fake_output):\n",
        "    \"\"\"\n",
        "    Computes the generator loss using hinge loss for bipolar labels.\n",
        "\n",
        "    Args:\n",
        "        fake_output: Discriminator predictions for fake (generated) samples.\n",
        "\n",
        "    Returns:\n",
        "        Generator loss (aiming to maximize discriminator output).\n",
        "    \"\"\"\n",
        "    # The generator tries to push fake outputs to be classified as real (i.e., to be high).\n",
        "    # Thus, the generator loss is the negative of the mean discriminator output on fake samples.\n",
        "    return -tf.reduce_mean(fake_output)\n"
      ],
      "metadata": {
        "id": "H1hMzohyaZHR"
      },
      "execution_count": null,
      "outputs": []
    },
    {
      "cell_type": "markdown",
      "source": [
        "# Step6: Training"
      ],
      "metadata": {
        "id": "sEdDMlFQelF1"
      }
    },
    {
      "cell_type": "code",
      "source": [
        "observable = cirq.Z(quantum_register[0])\n",
        "\n",
        "# Since the generator circuit is fully parameterized and does not take classical noise,\n",
        "# we feed an \"empty\" circuit as input.\n",
        "num_samples = train_quantum_tensors.shape[0]\n",
        "empty_circuits = tfq.convert_to_tensor([cirq.Circuit() for _ in range(num_samples)])\n",
        "\n",
        "# Build the generator model.\n",
        "generator_model = tf.keras.Sequential([\n",
        "    tf.keras.layers.Input(shape=(), dtype=tf.string),\n",
        "    tfq.layers.PQC(generator_circuit, observable)\n",
        "])\n",
        "\n",
        "# Build the discriminator model.\n",
        "discriminator_model = tf.keras.Sequential([\n",
        "    tf.keras.layers.Input(shape=(), dtype=tf.string),\n",
        "    tfq.layers.PQC(discriminator_circuit, observable)\n",
        "])\n",
        "\n",
        "# Define optimizers.\n",
        "optimizer_g = tf.keras.optimizers.Adam(learning_rate=0.01)\n",
        "optimizer_d = tf.keras.optimizers.Adam(learning_rate=0.01)\n",
        "\n",
        "# Training step function.\n",
        "@tf.function\n",
        "def train_step(real_circuits, noise_circuits):\n",
        "    with tf.GradientTape(persistent=True) as tape:\n",
        "        # Generate fake quantum data.\n",
        "        fake_output_gen = generator_model(noise_circuits)\n",
        "        # Discriminator outputs on real and fake data.\n",
        "        disc_real = discriminator_model(real_circuits)\n",
        "        disc_fake = discriminator_model(fake_output_gen)\n",
        "        # Compute losses.\n",
        "        d_loss = discriminator_loss(disc_real, disc_fake)\n",
        "        g_loss = generator_loss(disc_fake)\n",
        "    grads_d = tape.gradient(d_loss, discriminator_model.trainable_variables)\n",
        "    grads_g = tape.gradient(g_loss, generator_model.trainable_variables)\n",
        "    del tape\n",
        "    optimizer_d.apply_gradients(zip(grads_d, discriminator_model.trainable_variables))\n",
        "    optimizer_g.apply_gradients(zip(grads_g, generator_model.trainable_variables))\n",
        "    return d_loss, g_loss\n",
        "\n",
        "# Create a tf.data.Dataset for training.\n",
        "batch_size = 16\n",
        "dataset = tf.data.Dataset.from_tensor_slices((train_quantum_tensors, empty_circuits))\n",
        "dataset = dataset.shuffle(buffer_size=100).batch(batch_size)\n",
        "\n",
        "# Training loop.\n",
        "epochs = 20\n",
        "for epoch in range(epochs):\n",
        "    d_losses, g_losses = [], []\n",
        "    for real_batch, noise_batch in dataset:\n",
        "        d_loss_val, g_loss_val = train_step(real_batch, noise_batch)\n",
        "        d_losses.append(d_loss_val)\n",
        "        g_losses.append(g_loss_val)\n",
        "    print(f\"Epoch {epoch+1}: Discriminator Loss = {tf.reduce_mean(d_losses):.4f}, Generator Loss = {tf.reduce_mean(g_losses):.4f}\")"
      ],
      "metadata": {
        "id": "EmcKc9hfey9O"
      },
      "execution_count": null,
      "outputs": []
    },
    {
      "cell_type": "markdown",
      "source": [
        "Beyond this point i have been facing issues which are taking long to debug I plan on coming back and resolving them once I am done with the other tasks:("
      ],
      "metadata": {
        "id": "IwwGnw79PdR_"
      }
    },
    {
      "cell_type": "markdown",
      "source": [
        "# Steps yet to be worked upon:\n",
        "\n",
        "\n",
        "*  Training the model .\n",
        "*  Adjusting parameters for best generator and discriminator losses.\n",
        "\n"
      ],
      "metadata": {
        "id": "jswUqqASP7gK"
      }
    },
    {
      "cell_type": "markdown",
      "source": [
        "\n",
        "\n",
        "---\n",
        "\n",
        "\n",
        "\n",
        "---\n",
        "\n"
      ],
      "metadata": {
        "id": "c4iY5oauQqOB"
      }
    },
    {
      "cell_type": "markdown",
      "source": [
        "The current approach of using a Quantum Generative Adversarial Network (QGAN) for high-energy physics event classification has several limitations that make it suboptimal. First, quantum circuits are still noisy and simulated quantum computations do not provide a real quantum advantage, making classical GANs or Variational Quantum Classifiers (VQCs) potentially more effective. Additionally, GANs are notoriously difficult to train due to instability issues like mode collapse, where the generator fails to learn meaningful variations, and the discriminator overpowering the generator. The feature encoding method, which scales classical data to (-π, π) for quantum circuit inputs, may also distort important relationships, limiting the model’s effectiveness. Moreover, the computational cost of simulating quantum circuits is high, and training on real quantum hardware introduces additional noise, making fully classical models or hybrid quantum-classical approaches more efficient. The chosen latent space dimension (4) might not be expressive enough for high-energy physics distributions, leading to loss of crucial event characteristics. Finally, the evaluation metrics are limited, as the model is only trained with binary cross-entropy loss instead of physics-informed metrics like Wasserstein distance or Kullback-Leibler divergence, which are crucial for validating generated distributions. To improve this approach, one could benchmark against classical GANs, test hybrid quantum-classical encodings, incorporate physics-informed loss functions, or explore Variational Autoencoders (VAEs) and Normalizing Flows, which may offer greater stability and more accurate data generation."
      ],
      "metadata": {
        "id": "YyPur1xcQnqq"
      }
    },
    {
      "cell_type": "code",
      "source": [],
      "metadata": {
        "id": "Xkf4-3jcPuL7"
      },
      "execution_count": null,
      "outputs": []
    }
  ],
  "metadata": {
    "colab": {
      "provenance": []
    },
    "kernelspec": {
      "display_name": "py37_env",
      "language": "python",
      "name": "python3"
    },
    "language_info": {
      "codemirror_mode": {
        "name": "ipython",
        "version": 3
      },
      "file_extension": ".py",
      "mimetype": "text/x-python",
      "name": "python",
      "nbconvert_exporter": "python",
      "pygments_lexer": "ipython3",
      "version": "3.7.16"
    }
  },
  "nbformat": 4,
  "nbformat_minor": 0
}
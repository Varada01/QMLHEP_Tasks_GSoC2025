{
  "nbformat": 4,
  "nbformat_minor": 0,
  "metadata": {
    "colab": {
      "provenance": []
    },
    "kernelspec": {
      "name": "python3",
      "display_name": "Python 3"
    },
    "language_info": {
      "name": "python"
    }
  },
  "cells": [
    {
      "cell_type": "markdown",
      "source": [
        "# Task I: Quantum Computing Part"
      ],
      "metadata": {
        "id": "i_LRGz-MaJVd"
      }
    },
    {
      "cell_type": "markdown",
      "source": [
        "1) Implement a simple quantum operation with Cirq or Pennylane\n",
        "\n",
        "   a) With 5 qubits\n",
        "\n",
        "   b) Apply Hadamard operation on every qubit\n",
        "\n",
        "   c) Apply CNOT operation on (0, 1), (1,2), (2,3), (3,4)\n",
        "\n",
        "   d) SWAP (0, 4)\n",
        "\n",
        "   e) Rotate X with pi/2 on any qubit\n",
        "   \n",
        "   f) Plot the circuit\n"
      ],
      "metadata": {
        "id": "lYd7LUxKan1z"
      }
    },
    {
      "cell_type": "code",
      "execution_count": null,
      "metadata": {
        "id": "pKh14F-hGSOA"
      },
      "outputs": [],
      "source": [
        "!pip install pennylane"
      ]
    },
    {
      "cell_type": "code",
      "source": [
        "import pennylane as qml\n",
        "import numpy as np\n",
        "import matplotlib.pyplot as plt"
      ],
      "metadata": {
        "id": "8rkVWJylGo7m"
      },
      "execution_count": 2,
      "outputs": []
    },
    {
      "cell_type": "code",
      "source": [
        "dev = qml.device(\"default.qubit\", wires=5)"
      ],
      "metadata": {
        "id": "fAJ0wsfWGx9c"
      },
      "execution_count": 3,
      "outputs": []
    },
    {
      "cell_type": "code",
      "source": [
        "@qml.qnode(dev)\n",
        "def circuit():\n",
        "    # b)Apply Hadamard operation on every qubit\n",
        "    for i in range(5):\n",
        "        qml.Hadamard(wires=i)\n",
        "\n",
        "    # c)Apply CNOT operation on (0, 1), (1,2), (2,3), (3,4)\n",
        "    qml.CNOT(wires=[0, 1])\n",
        "    qml.CNOT(wires=[1, 2])\n",
        "    qml.CNOT(wires=[2, 3])\n",
        "    qml.CNOT(wires=[3, 4])\n",
        "\n",
        "    # d)SWAP (0, 4)\n",
        "    qml.SWAP(wires=[0, 4])\n",
        "\n",
        "    # e)Apply an RX(pi/2) gate on qubit 2\n",
        "    qml.RX(np.pi/2, wires=2)\n",
        "\n",
        "    return qml.state()\n",
        "\n",
        "# f)Plot the circuit\n",
        "circuit()\n",
        "\n",
        "# Draw the circuit\n",
        "drawer = qml.draw(circuit)\n",
        "print(drawer())"
      ],
      "metadata": {
        "colab": {
          "base_uri": "https://localhost:8080/"
        },
        "id": "YWhzLdeUG9DC",
        "outputId": "38a2e91e-8721-400d-9518-9e4637bc6f97"
      },
      "execution_count": 6,
      "outputs": [
        {
          "output_type": "stream",
          "name": "stdout",
          "text": [
            "0: ──H─╭●──────────╭SWAP───────────┤  State\n",
            "1: ──H─╰X─╭●───────│───────────────┤  State\n",
            "2: ──H────╰X─╭●────│──────RX(1.57)─┤  State\n",
            "3: ──H───────╰X─╭●─│───────────────┤  State\n",
            "4: ──H──────────╰X─╰SWAP───────────┤  State\n"
          ]
        }
      ]
    },
    {
      "cell_type": "markdown",
      "source": [
        "\n",
        "\n",
        "---\n",
        "\n",
        "---\n",
        "\n",
        "\n",
        "\n"
      ],
      "metadata": {
        "id": "ja5AMehFcnWY"
      }
    },
    {
      "cell_type": "markdown",
      "source": [
        "2) Implement a second circuit with a framework of your choice:\n",
        "\n",
        "a)Apply a Hadmard gate to the first qubit\n",
        "\n",
        "b)rotate the second qubit by pi/3 around X\n",
        "\n",
        "c)Apply Hadamard gate to the third and fourth qubit\n",
        "\n",
        "d)Perform a swap test between the states of the first and second qubit |q1 q2> and the third and fourth qubit |q3 q4>\n"
      ],
      "metadata": {
        "id": "_UOJEZIXcLs5"
      }
    },
    {
      "cell_type": "code",
      "source": [
        "n_qubits = 4\n",
        "dev = qml.device(\"default.qubit\", wires=n_qubits)\n",
        "\n",
        "@qml.qnode(dev)\n",
        "def circuit():\n",
        "    qml.Hadamard(wires=0) # a) Apply a hadamard gate to the first qubit\n",
        "    qml.RX(np.pi / 3, wires=1) # b) Rotate the second qubit by pi/3 around X axis\n",
        "\n",
        "    qml.Hadamard(wires=2) # c) Apply a Hadamard gate to the third and fourth qubit\n",
        "    qml.Hadamard(wires=3)\n",
        "\n",
        "    qml.SWAP(wires=[0, 1]) # d) Perform a swap test between the states of the first and second qubit |q1 q2>\n",
        "    qml.SWAP(wires=[2, 3]) # and the third and fourth qubit |q3 q4>\n",
        "\n",
        "    return qml.probs(wires=[0, 1, 2, 3])\n",
        "\n",
        "print(qml.draw(circuit)())"
      ],
      "metadata": {
        "colab": {
          "base_uri": "https://localhost:8080/"
        },
        "id": "ZJTAll-RHFQW",
        "outputId": "98d87466-c9ba-49a9-e2b4-432596296f8c"
      },
      "execution_count": 7,
      "outputs": [
        {
          "output_type": "stream",
          "name": "stdout",
          "text": [
            "0: ──H────────╭SWAP─┤ ╭Probs\n",
            "1: ──RX(1.05)─╰SWAP─┤ ├Probs\n",
            "2: ──H────────╭SWAP─┤ ├Probs\n",
            "3: ──H────────╰SWAP─┤ ╰Probs\n"
          ]
        }
      ]
    },
    {
      "cell_type": "markdown",
      "source": [
        "\n",
        "\n",
        "---\n",
        "\n",
        "\n",
        "\n",
        "---\n",
        "\n"
      ],
      "metadata": {
        "id": "svtx-kViyaUU"
      }
    }
  ]
}

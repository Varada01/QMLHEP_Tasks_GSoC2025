{
  "nbformat": 4,
  "nbformat_minor": 0,
  "metadata": {
    "colab": {
      "provenance": []
    },
    "kernelspec": {
      "name": "python3",
      "display_name": "Python 3"
    },
    "language_info": {
      "name": "python"
    }
  },
  "cells": [
    {
      "cell_type": "markdown",
      "source": [
        "# Task VIII: Vision transformer/Quantum Vision Transformer\n",
        "Implement a classical Vision transformer and apply it to MNIST. Show its performance on the test data. Comment on potential ideas to extend this classical vision transformer architecture to a quantum vision transformer and sketch out the architecture in detail.\n",
        "\n",
        "\n",
        "---\n",
        "\n",
        "\n",
        "\n",
        "---\n",
        "\n"
      ],
      "metadata": {
        "id": "7gL46I9U7fHc"
      }
    },
    {
      "cell_type": "markdown",
      "source": [
        "##  Classical Vision Transformer on MNIST\n",
        "\n",
        "The Vision Transformer (ViT) is a deep learning model that applies the Transformer architecture, originally designed for NLP tasks, to computer vision. Instead of using convolutional layers like in traditional CNNs, ViT treats an image as a sequence of patches and processes it similarly to a sequence of words in a sentence.\n",
        "\n",
        "###  Objective:\n",
        "We will implement a simplified **Vision Transformer (ViT)** and apply it to the **MNIST dataset**, which contains 70,000 grayscale images of handwritten digits (0–9), each of size 28×28 pixels.\n",
        "\n",
        "###  What we will do:\n",
        "- Split each MNIST image into **small non-overlapping patches** (e.g., 7×7 patches).\n",
        "- Flatten and embed each patch into a vector space.\n",
        "- Add **positional encodings** to maintain spatial information.\n",
        "- Feed the sequence of embedded patches into a **Transformer encoder**.\n",
        "- Use the output to classify the digit.\n",
        "\n",
        "This approach allows us to explore how powerful the Transformer architecture can be in vision tasks, even without convolutions.\n",
        "\n"
      ],
      "metadata": {
        "id": "yB_RJ3ZX-nS4"
      }
    },
    {
      "cell_type": "markdown",
      "source": [
        "\n",
        "\n",
        "---\n",
        "\n",
        "\n",
        "\n",
        "---\n",
        "\n"
      ],
      "metadata": {
        "id": "rzvV3N8FBE3n"
      }
    },
    {
      "cell_type": "markdown",
      "source": [
        "## Step 1: Install and Import Required Libraries\n",
        "\n",
        "We begin by installing necessary libraries and importing relevant modules:\n",
        "\n",
        "- `torch`, `torchvision`: Core PyTorch framework and datasets.\n",
        "- `einops`: Handy for rearranging tensors (used for patch flattening).\n",
        "- `matplotlib`: For visualizing results.\n",
        "\n",
        "`einops` is particularly useful for handling the patching operation required in Vision Transformers.\n"
      ],
      "metadata": {
        "id": "inRC6S03BGFn"
      }
    },
    {
      "cell_type": "code",
      "execution_count": 1,
      "metadata": {
        "colab": {
          "base_uri": "https://localhost:8080/"
        },
        "id": "QUeP3cF36gOR",
        "outputId": "9ccf4456-c1d4-4d56-80e7-6fc33ca4cd38"
      },
      "outputs": [
        {
          "output_type": "stream",
          "name": "stdout",
          "text": [
            "\u001b[2K   \u001b[90m━━━━━━━━━━━━━━━━━━━━━━━━━━━━━━━━━━━━━━━━\u001b[0m \u001b[32m363.4/363.4 MB\u001b[0m \u001b[31m3.9 MB/s\u001b[0m eta \u001b[36m0:00:00\u001b[0m\n",
            "\u001b[2K   \u001b[90m━━━━━━━━━━━━━━━━━━━━━━━━━━━━━━━━━━━━━━━━\u001b[0m \u001b[32m13.8/13.8 MB\u001b[0m \u001b[31m35.1 MB/s\u001b[0m eta \u001b[36m0:00:00\u001b[0m\n",
            "\u001b[2K   \u001b[90m━━━━━━━━━━━━━━━━━━━━━━━━━━━━━━━━━━━━━━━━\u001b[0m \u001b[32m24.6/24.6 MB\u001b[0m \u001b[31m27.1 MB/s\u001b[0m eta \u001b[36m0:00:00\u001b[0m\n",
            "\u001b[2K   \u001b[90m━━━━━━━━━━━━━━━━━━━━━━━━━━━━━━━━━━━━━━━━\u001b[0m \u001b[32m883.7/883.7 kB\u001b[0m \u001b[31m22.3 MB/s\u001b[0m eta \u001b[36m0:00:00\u001b[0m\n",
            "\u001b[2K   \u001b[90m━━━━━━━━━━━━━━━━━━━━━━━━━━━━━━━━━━━━━━━━\u001b[0m \u001b[32m664.8/664.8 MB\u001b[0m \u001b[31m2.7 MB/s\u001b[0m eta \u001b[36m0:00:00\u001b[0m\n",
            "\u001b[2K   \u001b[90m━━━━━━━━━━━━━━━━━━━━━━━━━━━━━━━━━━━━━━━━\u001b[0m \u001b[32m211.5/211.5 MB\u001b[0m \u001b[31m6.3 MB/s\u001b[0m eta \u001b[36m0:00:00\u001b[0m\n",
            "\u001b[2K   \u001b[90m━━━━━━━━━━━━━━━━━━━━━━━━━━━━━━━━━━━━━━━━\u001b[0m \u001b[32m56.3/56.3 MB\u001b[0m \u001b[31m12.0 MB/s\u001b[0m eta \u001b[36m0:00:00\u001b[0m\n",
            "\u001b[2K   \u001b[90m━━━━━━━━━━━━━━━━━━━━━━━━━━━━━━━━━━━━━━━━\u001b[0m \u001b[32m127.9/127.9 MB\u001b[0m \u001b[31m7.3 MB/s\u001b[0m eta \u001b[36m0:00:00\u001b[0m\n",
            "\u001b[2K   \u001b[90m━━━━━━━━━━━━━━━━━━━━━━━━━━━━━━━━━━━━━━━━\u001b[0m \u001b[32m207.5/207.5 MB\u001b[0m \u001b[31m5.4 MB/s\u001b[0m eta \u001b[36m0:00:00\u001b[0m\n",
            "\u001b[2K   \u001b[90m━━━━━━━━━━━━━━━━━━━━━━━━━━━━━━━━━━━━━━━━\u001b[0m \u001b[32m21.1/21.1 MB\u001b[0m \u001b[31m52.0 MB/s\u001b[0m eta \u001b[36m0:00:00\u001b[0m\n",
            "\u001b[?25h"
          ]
        }
      ],
      "source": [
        "!pip install torchvision einops --quiet\n",
        "\n",
        "import torch\n",
        "import torch.nn as nn\n",
        "import torch.nn.functional as F\n",
        "from torchvision import datasets, transforms\n",
        "from torch.utils.data import DataLoader\n",
        "from einops import rearrange\n",
        "import matplotlib.pyplot as plt\n"
      ]
    },
    {
      "cell_type": "markdown",
      "source": [
        "## Step 2: Load and Prepare the MNIST Dataset\n",
        "\n",
        "We load the classic MNIST dataset using `torchvision.datasets`. Each image is:\n",
        "\n",
        "- Grayscale (1×28×28),\n",
        "- Normalized to the range [0, 1],\n",
        "- Converted to a PyTorch tensor.\n",
        "\n",
        "We use `DataLoader` to enable batch processing for both training and testing.\n"
      ],
      "metadata": {
        "id": "dpS6jqJ7BL-e"
      }
    },
    {
      "cell_type": "code",
      "source": [
        "transform = transforms.Compose([\n",
        "    transforms.ToTensor()\n",
        "])\n",
        "\n",
        "train_dataset = datasets.MNIST(root='./data', train=True, transform=transform, download=True)\n",
        "test_dataset = datasets.MNIST(root='./data', train=False, transform=transform)\n",
        "\n",
        "train_loader = DataLoader(train_dataset, batch_size=64, shuffle=True)\n",
        "test_loader = DataLoader(test_dataset, batch_size=64)\n"
      ],
      "metadata": {
        "colab": {
          "base_uri": "https://localhost:8080/"
        },
        "id": "Zj_rbhDz_5i3",
        "outputId": "dc5ce1e5-7da8-48b5-c8eb-4dff0904557c"
      },
      "execution_count": 2,
      "outputs": [
        {
          "output_type": "stream",
          "name": "stderr",
          "text": [
            "100%|██████████| 9.91M/9.91M [00:00<00:00, 56.1MB/s]\n",
            "100%|██████████| 28.9k/28.9k [00:00<00:00, 1.78MB/s]\n",
            "100%|██████████| 1.65M/1.65M [00:00<00:00, 14.4MB/s]\n",
            "100%|██████████| 4.54k/4.54k [00:00<00:00, 8.33MB/s]\n"
          ]
        }
      ]
    },
    {
      "cell_type": "markdown",
      "source": [
        "## Step 3: Define the Vision Transformer (ViT) Architecture\n",
        "\n",
        "This class implements a simplified Vision Transformer (ViT) model with the following components:\n",
        "\n",
        "- **Patch Embedding**: Flattens the image into small patches (e.g., 7×7) and projects them into a high-dimensional space.\n",
        "- **Positional Encoding**: Adds learnable position embeddings to preserve spatial information lost during patching.\n",
        "- **[CLS] Token**: A special classification token prepended to the patch sequence; the output of this token is used for classification.\n",
        "- **Transformer Encoder**: Applies multiple layers of self-attention and feed-forward networks to model global dependencies.\n",
        "- **MLP Head**: The output from the [CLS] token is passed through a fully connected layer to predict one of the 10 MNIST digits.\n",
        "\n",
        "This architecture allows the model to process the image as a sequence of patches — similar to how transformers process words in NLP.\n"
      ],
      "metadata": {
        "id": "JyfcOZd-BReE"
      }
    },
    {
      "cell_type": "code",
      "source": [
        "class ViT(nn.Module):\n",
        "    def __init__(self, image_size=28, patch_size=7, num_classes=10, dim=64, depth=4, heads=4, mlp_dim=128):\n",
        "        super().__init__()\n",
        "\n",
        "        assert image_size % patch_size == 0, 'Image dimensions must be divisible by patch size'\n",
        "        num_patches = (image_size // patch_size) ** 2\n",
        "        patch_dim = patch_size * patch_size\n",
        "\n",
        "        self.patch_size = patch_size\n",
        "        self.patch_embedding = nn.Linear(patch_dim, dim)\n",
        "        self.pos_embedding = nn.Parameter(torch.randn(1, num_patches, dim))\n",
        "        self.cls_token = nn.Parameter(torch.randn(1, 1, dim))\n",
        "\n",
        "        encoder_layer = nn.TransformerEncoderLayer(d_model=dim, nhead=heads, dim_feedforward=mlp_dim, activation='gelu')\n",
        "        self.transformer = nn.TransformerEncoder(encoder_layer, num_layers=depth)\n",
        "\n",
        "        self.to_cls_token = nn.Identity()\n",
        "        self.mlp_head = nn.Sequential(\n",
        "            nn.LayerNorm(dim),\n",
        "            nn.Linear(dim, num_classes)\n",
        "        )\n",
        "\n",
        "    def forward(self, x):\n",
        "        # x shape: [batch, 1, 28, 28]\n",
        "        b, c, h, w = x.shape\n",
        "        x = rearrange(x, 'b c (h p1) (w p2) -> b (h w) (p1 p2)', p1=self.patch_size, p2=self.patch_size)\n",
        "\n",
        "        x = self.patch_embedding(x)  # [b, num_patches, dim]\n",
        "        b, n, _ = x.shape\n",
        "\n",
        "        cls_tokens = self.cls_token.expand(b, -1, -1)  # [b, 1, dim]\n",
        "        x = torch.cat((cls_tokens, x), dim=1)  # [b, 1 + num_patches, dim]\n",
        "        x += self.pos_embedding[:, :(n)]\n",
        "\n",
        "        x = self.transformer(x)\n",
        "        x = self.to_cls_token(x[:, 0])  # take cls token output\n",
        "\n",
        "        return self.mlp_head(x)\n"
      ],
      "metadata": {
        "id": "BWTDm-E3AfK-"
      },
      "execution_count": 3,
      "outputs": []
    },
    {
      "cell_type": "markdown",
      "source": [
        "## Vision Transformer (ViT) on MNIST – Training Pipeline\n",
        "\n",
        "In this section, we implement and train a **simplified Vision Transformer (ViT)** model on the MNIST dataset. Here's a breakdown of each component:\n",
        "\n",
        "---\n",
        "\n",
        "### Dataset & DataLoader\n",
        "\n",
        "We load the **MNIST dataset** using `torchvision.datasets.MNIST` with simple tensor transformation and create `DataLoader`s for training and testing.\n",
        "\n",
        "- **Batch size**: 128\n",
        "- **Image size**: 28x28 grayscale images\n",
        "- **Dataset**: Digits (0–9), 60,000 training and 10,000 test samples\n",
        "\n",
        "---\n",
        "\n",
        "### Patch Embedding Layer\n",
        "\n",
        "We divide each image into **non-overlapping patches** using a `Conv2D` layer:\n",
        "- **Patch size**: 7×7\n",
        "- **Embedding dimension**: 32\n",
        "- Each 28×28 image becomes 16 patches (4×4), flattened and linearly embedded.\n",
        "- A learnable **class token** and **positional embeddings** are added to form the input sequence for the Transformer.\n",
        "\n",
        "---\n",
        "\n",
        "### Transformer Encoder\n",
        "\n",
        "We use a basic Transformer encoder:\n",
        "- **2 layers**\n",
        "- **2 attention heads**\n",
        "- `nn.TransformerEncoderLayer` is wrapped into a `nn.TransformerEncoder`\n",
        "\n",
        "This allows the model to attend to the global context of the image patches.\n",
        "\n",
        "---\n",
        "\n",
        "### MLP Head\n",
        "\n",
        "After encoding, we extract the representation corresponding to the **class token** and pass it through a small MLP:\n",
        "- `LayerNorm`\n",
        "- `Linear` layer projecting to `10` output classes (for MNIST digits)\n",
        "\n",
        "---\n",
        "\n",
        "### Training Loop\n",
        "\n",
        "We train the model using:\n",
        "- **Loss function**: CrossEntropyLoss\n",
        "- **Optimizer**: Adam with learning rate `1e-3`\n",
        "- **Epochs**: 5\n",
        "\n",
        "Each epoch prints the average training loss to monitor convergence.\n",
        "\n",
        "---\n",
        "\n",
        "This completes the end-to-end training of a minimal Vision Transformer model on MNIST. Next, we can evaluate its performance, plot confusion matrices, and explore extensions to a **Quantum Vision Transformer (QViT)**.\n"
      ],
      "metadata": {
        "id": "PRjtz_0TVrGh"
      }
    },
    {
      "cell_type": "code",
      "source": [
        "import torch\n",
        "import torch.nn as nn\n",
        "import torchvision\n",
        "import torchvision.transforms as transforms\n",
        "from torch.utils.data import DataLoader\n",
        "\n",
        "# Device\n",
        "device = torch.device(\"cuda\" if torch.cuda.is_available() else \"cpu\")\n",
        "\n",
        "# Dataset\n",
        "transform = transforms.ToTensor()\n",
        "train_dataset = torchvision.datasets.MNIST(root='./data', train=True, transform=transform, download=True)\n",
        "test_dataset = torchvision.datasets.MNIST(root='./data', train=False, transform=transform, download=True)\n",
        "\n",
        "train_loader = DataLoader(train_dataset, batch_size=128, shuffle=True)\n",
        "test_loader = DataLoader(test_dataset, batch_size=128, shuffle=False)\n",
        "\n",
        "# Patch Embedding\n",
        "class PatchEmbedding(nn.Module):\n",
        "    def __init__(self, in_channels=1, patch_size=7, emb_size=32, img_size=28):\n",
        "        super().__init__()\n",
        "        self.n_patches = (img_size // patch_size) ** 2\n",
        "        self.proj = nn.Conv2d(in_channels, emb_size, kernel_size=patch_size, stride=patch_size)\n",
        "        self.cls_token = nn.Parameter(torch.randn(1, 1, emb_size))\n",
        "        self.pos_embedding = nn.Parameter(torch.randn(1, self.n_patches + 1, emb_size))\n",
        "\n",
        "    def forward(self, x):\n",
        "        B = x.size(0)\n",
        "        x = self.proj(x).flatten(2).transpose(1, 2)\n",
        "        cls_tokens = self.cls_token.expand(B, -1, -1)\n",
        "        x = torch.cat([cls_tokens, x], dim=1)\n",
        "        return x + self.pos_embedding\n",
        "\n",
        "# Transformer Encoder\n",
        "class SimpleTransformer(nn.Module):\n",
        "    def __init__(self, emb_size=32, heads=2, layers=2):\n",
        "        super().__init__()\n",
        "        encoder_layer = nn.TransformerEncoderLayer(d_model=emb_size, nhead=heads, batch_first=True)\n",
        "        self.transformer = nn.TransformerEncoder(encoder_layer, num_layers=layers)\n",
        "\n",
        "    def forward(self, x):\n",
        "        return self.transformer(x)\n",
        "\n",
        "# ViT Model\n",
        "class VisionTransformer(nn.Module):\n",
        "    def __init__(self, num_classes=10):\n",
        "        super().__init__()\n",
        "        self.embed = PatchEmbedding()\n",
        "        self.encoder = SimpleTransformer()\n",
        "        self.mlp_head = nn.Sequential(\n",
        "            nn.LayerNorm(32),\n",
        "            nn.Linear(32, num_classes)\n",
        "        )\n",
        "\n",
        "    def forward(self, x):\n",
        "        x = self.embed(x)\n",
        "        x = self.encoder(x)\n",
        "        return self.mlp_head(x[:, 0])\n",
        "\n",
        "# Model, Loss, Optimizer\n",
        "model = VisionTransformer().to(device)\n",
        "loss_fn = nn.CrossEntropyLoss()\n",
        "optimizer = torch.optim.Adam(model.parameters(), lr=1e-3)\n",
        "\n",
        "# Training loop\n",
        "epochs = 5\n",
        "for epoch in range(epochs):\n",
        "    model.train()\n",
        "    running_loss = 0\n",
        "    for imgs, labels in train_loader:\n",
        "        imgs, labels = imgs.to(device), labels.to(device)\n",
        "        optimizer.zero_grad()\n",
        "        preds = model(imgs)\n",
        "        loss = loss_fn(preds, labels)\n",
        "        loss.backward()\n",
        "        optimizer.step()\n",
        "        running_loss += loss.item()\n",
        "    print(f\"[{epoch+1}/{epochs}] Loss: {running_loss/len(train_loader):.4f}\")\n"
      ],
      "metadata": {
        "colab": {
          "base_uri": "https://localhost:8080/"
        },
        "id": "Rt--7Xd0I8y8",
        "outputId": "f3ce27c6-2a48-4752-e806-ebeb17e64308"
      },
      "execution_count": 8,
      "outputs": [
        {
          "output_type": "stream",
          "name": "stdout",
          "text": [
            "[1/5] Loss: 1.0566\n",
            "[2/5] Loss: 0.3386\n",
            "[3/5] Loss: 0.2449\n",
            "[4/5] Loss: 0.2019\n",
            "[5/5] Loss: 0.1763\n"
          ]
        }
      ]
    },
    {
      "cell_type": "code",
      "source": [
        "# Evaluation loop\n",
        "model.eval()\n",
        "correct = 0\n",
        "total = 0\n",
        "\n",
        "with torch.no_grad():\n",
        "    for imgs, labels in test_loader:\n",
        "        imgs, labels = imgs.to(device), labels.to(device)\n",
        "        outputs = model(imgs)\n",
        "        _, predicted = torch.max(outputs, 1)\n",
        "        total += labels.size(0)\n",
        "        correct += (predicted == labels).sum().item()\n",
        "\n",
        "accuracy = correct / total\n",
        "print(f\"✅ Test Accuracy: {accuracy * 100:.2f}%\")\n"
      ],
      "metadata": {
        "colab": {
          "base_uri": "https://localhost:8080/"
        },
        "id": "RMoU1pwxKWg6",
        "outputId": "b6dc4c99-c909-4f71-ca1b-39668aa6b2de"
      },
      "execution_count": 9,
      "outputs": [
        {
          "output_type": "stream",
          "name": "stdout",
          "text": [
            "✅ Test Accuracy: 96.89%\n"
          ]
        }
      ]
    },
    {
      "cell_type": "markdown",
      "source": [
        "###  Confusion Matrix\n",
        "\n",
        "To better understand the performance of our Vision Transformer, we plot a confusion matrix. This matrix shows how often actual digits (0-9) were classified correctly or confused with other digits.\n",
        "\n",
        "- Diagonal elements: Correct classifications.\n",
        "- Off-diagonal elements: Misclassifications.\n",
        "\n",
        "A perfect model would show a diagonal-only matrix.\n",
        "\n",
        "This visualization helps pinpoint which digits are more prone to being misclassified.\n"
      ],
      "metadata": {
        "id": "FsHKOmyjVVFe"
      }
    },
    {
      "cell_type": "code",
      "source": [
        "import seaborn as sns\n",
        "from sklearn.metrics import confusion_matrix\n",
        "import matplotlib.pyplot as plt\n",
        "\n",
        "# Get all predictions and true labels\n",
        "all_preds = []\n",
        "all_labels = []\n",
        "\n",
        "model.eval()\n",
        "with torch.no_grad():\n",
        "    for imgs, labels in test_loader:\n",
        "        imgs = imgs.to(device)\n",
        "        outputs = model(imgs)\n",
        "        _, predicted = torch.max(outputs, 1)\n",
        "        all_preds.extend(predicted.cpu().numpy())\n",
        "        all_labels.extend(labels.numpy())\n",
        "\n",
        "# Compute the confusion matrix\n",
        "cm = confusion_matrix(all_labels, all_preds)\n",
        "\n",
        "# Plot using seaborn\n",
        "plt.figure(figsize=(10, 8))\n",
        "sns.heatmap(cm, annot=True, fmt='d', cmap='Blues', xticklabels=range(10), yticklabels=range(10))\n",
        "plt.xlabel(\"Predicted Labels\")\n",
        "plt.ylabel(\"True Labels\")\n",
        "plt.title(\"📊 Confusion Matrix for Vision Transformer on MNIST\")\n",
        "plt.show()\n"
      ],
      "metadata": {
        "colab": {
          "base_uri": "https://localhost:8080/",
          "height": 753
        },
        "id": "phuwCjwuVFQH",
        "outputId": "a928bcfa-57c4-4bb8-a991-7341652269bf"
      },
      "execution_count": 10,
      "outputs": [
        {
          "output_type": "stream",
          "name": "stderr",
          "text": [
            "/usr/local/lib/python3.11/dist-packages/IPython/core/pylabtools.py:151: UserWarning: Glyph 128202 (\\N{BAR CHART}) missing from font(s) DejaVu Sans.\n",
            "  fig.canvas.print_figure(bytes_io, **kw)\n"
          ]
        },
        {
          "output_type": "display_data",
          "data": {
            "text/plain": [
              "<Figure size 1000x800 with 2 Axes>"
            ],
            "image/png": "[encoded data removed]"
          },
          "metadata": {}
        }
      ]
    },
    {
      "cell_type": "markdown",
      "source": [
        "\n",
        "\n",
        "---\n",
        "\n",
        "\n",
        "\n",
        "---\n",
        "\n"
      ],
      "metadata": {
        "id": "s63ZOGzNWAGq"
      }
    },
    {
      "cell_type": "markdown",
      "source": [
        "## Quantum Vision Transformer (QViT) – Design & Motivation\n",
        "\n",
        "While classical Vision Transformers (ViTs) utilize linear projections and self-attention mechanisms, the Quantum Vision Transformer (QViT) introduces quantum circuits as a way to encode and process image patches.\n",
        "\n",
        "### Key Differences from Classical ViT\n",
        "- **Patch Encoding**: Classical ViT uses convolutional layers to embed patches. In QViT, quantum circuits (parameterized by trainable angles) embed classical data into quantum states.\n",
        "- **Quantum Layer Integration**: A quantum circuit replaces part of the MLP or transformer block in the ViT architecture to perform feature transformation.\n",
        "- **Potential Benefits**: Due to quantum superposition and entanglement, QViTs might offer more expressive representations on fewer parameters for certain data regimes.\n",
        "\n",
        "###  Architecture Overview\n",
        "1. **Patch Extraction**: Same as classical ViT (split 28x28 into non-overlapping 7x7 patches).\n",
        "2. **Patch Encoding via Quantum Circuit**: Each patch is passed through a parameterized quantum circuit.\n",
        "3. **Transformer Encoder**: The quantum-enhanced patch embeddings are passed to a lightweight transformer encoder.\n",
        "4. **Classification Head**: Final class prediction is made using a dense layer on the `[CLS]` token.\n",
        "\n",
        "We'll now define the quantum circuit and embed it within a ViT-like architecture.\n"
      ],
      "metadata": {
        "id": "icZxmjxGWD00"
      }
    },
    {
      "cell_type": "markdown",
      "source": [
        "\n",
        "\n",
        "---\n",
        "\n",
        "\n",
        "\n",
        "---\n",
        "\n"
      ],
      "metadata": {
        "id": "gunp2T9yXGj3"
      }
    },
    {
      "cell_type": "markdown",
      "source": [
        "# Since a full QViT is an emerging concept and often requires hybrid classical-quantum models, we’ll follow a reasonable and illustrative path:\n",
        "We'll:\n",
        "1.  Use a simplified classical ViT for patch embedding.\n",
        "2.   Replace the transformer encoder with a quantum circuit-based layer.\n",
        "3.   Feed the quantum outputs into a classifier.\n",
        "\n",
        "\n",
        "\n",
        "\n"
      ],
      "metadata": {
        "id": "w8VmCnCAXHua"
      }
    },
    {
      "cell_type": "code",
      "source": [
        "!pip install pennylane --quiet"
      ],
      "metadata": {
        "colab": {
          "base_uri": "https://localhost:8080/"
        },
        "id": "8gVANok7XjAt",
        "outputId": "134b8491-eb91-4292-f11b-5b36bf3846c1"
      },
      "execution_count": 12,
      "outputs": [
        {
          "output_type": "stream",
          "name": "stdout",
          "text": [
            "\u001b[?25l     \u001b[90m━━━━━━━━━━━━━━━━━━━━━━━━━━━━━━━━━━━━━━━━\u001b[0m \u001b[32m0.0/56.1 kB\u001b[0m \u001b[31m?\u001b[0m eta \u001b[36m-:--:--\u001b[0m\r\u001b[2K     \u001b[90m━━━━━━━━━━━━━━━━━━━━━━━━━━━━━━━━━━━━━━━━\u001b[0m \u001b[32m56.1/56.1 kB\u001b[0m \u001b[31m4.0 MB/s\u001b[0m eta \u001b[36m0:00:00\u001b[0m\n",
            "\u001b[2K   \u001b[90m━━━━━━━━━━━━━━━━━━━━━━━━━━━━━━━━━━━━━━━━\u001b[0m \u001b[32m2.0/2.0 MB\u001b[0m \u001b[31m28.2 MB/s\u001b[0m eta \u001b[36m0:00:00\u001b[0m\n",
            "\u001b[2K   \u001b[90m━━━━━━━━━━━━━━━━━━━━━━━━━━━━━━━━━━━━━━━━\u001b[0m \u001b[32m930.8/930.8 kB\u001b[0m \u001b[31m37.8 MB/s\u001b[0m eta \u001b[36m0:00:00\u001b[0m\n",
            "\u001b[2K   \u001b[90m━━━━━━━━━━━━━━━━━━━━━━━━━━━━━━━━━━━━━━━━\u001b[0m \u001b[32m2.4/2.4 MB\u001b[0m \u001b[31m58.4 MB/s\u001b[0m eta \u001b[36m0:00:00\u001b[0m\n",
            "\u001b[2K   \u001b[90m━━━━━━━━━━━━━━━━━━━━━━━━━━━━━━━━━━━━━━━━\u001b[0m \u001b[32m2.1/2.1 MB\u001b[0m \u001b[31m51.4 MB/s\u001b[0m eta \u001b[36m0:00:00\u001b[0m\n",
            "\u001b[2K   \u001b[90m━━━━━━━━━━━━━━━━━━━━━━━━━━━━━━━━━━━━━━━━\u001b[0m \u001b[32m167.9/167.9 kB\u001b[0m \u001b[31m11.2 MB/s\u001b[0m eta \u001b[36m0:00:00\u001b[0m\n",
            "\u001b[2K   \u001b[90m━━━━━━━━━━━━━━━━━━━━━━━━━━━━━━━━━━━━━━━━\u001b[0m \u001b[32m8.6/8.6 MB\u001b[0m \u001b[31m94.4 MB/s\u001b[0m eta \u001b[36m0:00:00\u001b[0m\n",
            "\u001b[?25h"
          ]
        }
      ]
    },
    {
      "cell_type": "code",
      "source": [
        "import torch\n",
        "import torch.nn as nn\n",
        "import torchvision\n",
        "import torchvision.transforms as transforms\n",
        "from torch.utils.data import DataLoader\n",
        "\n",
        "import pennylane as qml\n",
        "from pennylane import numpy as np\n",
        "\n",
        "# Device\n",
        "device = torch.device(\"cuda\" if torch.cuda.is_available() else \"cpu\")\n"
      ],
      "metadata": {
        "id": "NcqN5CEpVZAo"
      },
      "execution_count": 13,
      "outputs": []
    },
    {
      "cell_type": "markdown",
      "source": [
        "# Data Loading (reuse MNIST loader)"
      ],
      "metadata": {
        "id": "tje1wJrpXtdR"
      }
    },
    {
      "cell_type": "code",
      "source": [
        "transform = transforms.ToTensor()\n",
        "train_dataset = torchvision.datasets.MNIST(root='./data', train=True, transform=transform, download=True)\n",
        "test_dataset = torchvision.datasets.MNIST(root='./data', train=False, transform=transform, download=True)\n",
        "\n",
        "train_loader = DataLoader(train_dataset, batch_size=64, shuffle=True)\n",
        "test_loader = DataLoader(test_dataset, batch_size=64, shuffle=False)\n"
      ],
      "metadata": {
        "id": "OUKtrn4QXhIk"
      },
      "execution_count": 14,
      "outputs": []
    },
    {
      "cell_type": "markdown",
      "source": [
        "# Patch Embedding (same as classical ViT)"
      ],
      "metadata": {
        "id": "OH8wRCmSXx7u"
      }
    },
    {
      "cell_type": "markdown",
      "source": [
        "We divide the image into patches and convert them into embedding vectors. These embeddings are then fed into the quantum layer."
      ],
      "metadata": {
        "id": "F8r2FyemX0eT"
      }
    },
    {
      "cell_type": "code",
      "source": [
        "class PatchEmbedding(nn.Module):\n",
        "    def __init__(self, in_channels=1, patch_size=7, emb_size=4, img_size=28):\n",
        "        super().__init__()\n",
        "        self.n_patches = (img_size // patch_size) ** 2\n",
        "        self.proj = nn.Conv2d(in_channels, emb_size, kernel_size=patch_size, stride=patch_size)\n",
        "\n",
        "    def forward(self, x):\n",
        "        x = self.proj(x)  # [B, emb_size, 4, 4]\n",
        "        x = x.flatten(2).transpose(1, 2)  # [B, num_patches, emb_size]\n",
        "        return x\n"
      ],
      "metadata": {
        "id": "TnHfYy6tXwA4"
      },
      "execution_count": 15,
      "outputs": []
    },
    {
      "cell_type": "markdown",
      "source": [
        "# Define Quantum Circuit Layer"
      ],
      "metadata": {
        "id": "5F4vN4lZYD12"
      }
    },
    {
      "cell_type": "markdown",
      "source": [
        "###  Quantum Circuit Definition\n",
        "\n",
        "This cell defines the parameterized quantum circuit using PennyLane. It:\n",
        "- Encodes inputs with `RY` rotations.\n",
        "- Applies entanglement in a ring topology.\n",
        "- Uses `RY` variational gates with learnable weights.\n",
        "- Measures expectation values of Pauli-Z for each qubit.\n"
      ],
      "metadata": {
        "id": "72TJpUzjYJlw"
      }
    },
    {
      "cell_type": "code",
      "source": [
        "import pennylane as qml\n",
        "\n",
        "n_qubits = 4\n",
        "dev = qml.device(\"default.qubit\", wires=n_qubits)\n",
        "\n",
        "@qml.qnode(dev, interface=\"torch\")\n",
        "def quantum_circuit(inputs, weights):\n",
        "    # Embed input\n",
        "    for i in range(n_qubits):\n",
        "        qml.RY(inputs[i], wires=i)\n",
        "\n",
        "    # Variational layers\n",
        "    for l in range(weights.shape[0]):\n",
        "        for i in range(n_qubits):\n",
        "            qml.RX(weights[l, i, 0], wires=i)\n",
        "            qml.RY(weights[l, i, 1], wires=i)\n",
        "            qml.RZ(weights[l, i, 2], wires=i)\n",
        "\n",
        "        # Entanglement (simple linear entanglement)\n",
        "        for i in range(n_qubits - 1):\n",
        "            qml.CNOT(wires=[i, i + 1])\n",
        "\n",
        "    # Return Z expectation values\n",
        "    return [qml.expval(qml.PauliZ(i)) for i in range(n_qubits)]\n"
      ],
      "metadata": {
        "id": "BUYS_h-FX3FK"
      },
      "execution_count": 34,
      "outputs": []
    },
    {
      "cell_type": "markdown",
      "source": [
        "#Create a Quantum Layer Module for PyTorch\n",
        "This layer will allow us to treat our quantum circuit just like any other layer in a neural network."
      ],
      "metadata": {
        "id": "Rp8NxslBYosQ"
      }
    },
    {
      "cell_type": "code",
      "source": [
        "class QuantumLayer(nn.Module):\n",
        "    def __init__(self, n_qubits=4, n_layers=1):\n",
        "        super().__init__()\n",
        "        self.n_qubits = n_qubits\n",
        "        self.n_layers = n_layers\n",
        "        # Initialize trainable quantum parameters (1 layer × n_qubits × 3 angles)\n",
        "        self.params = nn.Parameter(0.01 * torch.randn(n_layers, n_qubits, 3))\n",
        "\n",
        "    def forward(self, x):\n",
        "        x_quantum = []\n",
        "        for i in range(x.shape[0]):\n",
        "            q_out = quantum_circuit(x[i], self.params)\n",
        "            q_tensor = torch.tensor(q_out, dtype=torch.float32)\n",
        "            x_quantum.append(q_tensor)\n",
        "        return torch.stack(x_quantum)\n"
      ],
      "metadata": {
        "id": "CpDKrbdFYHs5"
      },
      "execution_count": 35,
      "outputs": []
    },
    {
      "cell_type": "markdown",
      "source": [
        "# Test: QuantumLayer with Dummy Input"
      ],
      "metadata": {
        "id": "Cwz_6HUeY3yH"
      }
    },
    {
      "cell_type": "markdown",
      "source": [
        "Here’s a quick script to verify that the QuantumLayer works on a batch of inputs:"
      ],
      "metadata": {
        "id": "u5Tg-IxGY6l7"
      }
    },
    {
      "cell_type": "code",
      "source": [
        "# Dummy input with 8 samples, 4 features each (e.g., flattened patch embeddings)\n",
        "dummy_input = torch.rand((8, 4), dtype=torch.float32)\n",
        "\n",
        "# Instantiate quantum layer\n",
        "q_layer = QuantumLayer()\n",
        "\n",
        "# Forward pass\n",
        "output = q_layer(dummy_input)\n",
        "\n",
        "print(\"Quantum Layer Output Shape:\", output.shape)\n",
        "print(\"Quantum Layer Output:\", output)\n"
      ],
      "metadata": {
        "colab": {
          "base_uri": "https://localhost:8080/"
        },
        "id": "0FXVzxhqYuqx",
        "outputId": "0fe234a2-3e0a-4147-9514-61d32c228a32"
      },
      "execution_count": 36,
      "outputs": [
        {
          "output_type": "stream",
          "name": "stdout",
          "text": [
            "Quantum Layer Output Shape: torch.Size([8, 4])\n",
            "Quantum Layer Output: tensor([[0.9987, 0.5645, 0.5611, 0.4247],\n",
            "        [0.9959, 0.9658, 0.9200, 0.5809],\n",
            "        [0.8499, 0.6355, 0.4506, 0.3585],\n",
            "        [0.9979, 0.6661, 0.6617, 0.5851],\n",
            "        [0.6061, 0.5199, 0.5194, 0.4663],\n",
            "        [0.8601, 0.7699, 0.6724, 0.5061],\n",
            "        [0.9930, 0.9919, 0.5879, 0.3473],\n",
            "        [0.9247, 0.9190, 0.9077, 0.5235]])\n"
          ]
        }
      ]
    },
    {
      "cell_type": "markdown",
      "source": [
        "# Hybrid QViT Model"
      ],
      "metadata": {
        "id": "N5z4GQBYadBf"
      }
    },
    {
      "cell_type": "code",
      "source": [
        "class HybridQViT(nn.Module):\n",
        "    def __init__(self, num_classes=10, emb_size=32, quantum_output_dim=2):\n",
        "        super(HybridQViT, self).__init__()\n",
        "        self.embedding = PatchEmbedding(emb_size=emb_size)\n",
        "        self.encoder = SimpleTransformer(emb_size=emb_size)\n",
        "\n",
        "        # Quantum layer expects small input, so we reduce embedding dimension before quantum circuit\n",
        "        self.to_quantum_input = nn.Linear(emb_size, quantum_output_dim)\n",
        "        self.quantum_layer = QuantumLayer(n_qubits=quantum_output_dim)\n",
        "\n",
        "        # Final classification layer from quantum output to logits\n",
        "        self.classifier = nn.Sequential(\n",
        "            nn.Linear(quantum_output_dim, num_classes)\n",
        "        )\n",
        "\n",
        "    def forward(self, x):\n",
        "        # Step 1: Embed patches\n",
        "        x = self.embedding(x)\n",
        "\n",
        "        # Step 2: Transformer encoder\n",
        "        x = self.encoder(x)\n",
        "\n",
        "        # Step 3: Use [CLS] token (first token in the sequence)\n",
        "        cls_token = x[:, 0]\n",
        "\n",
        "        # Step 4: Downproject to quantum-compatible dimension\n",
        "        q_input = self.to_quantum_input(cls_token)\n",
        "\n",
        "        # Step 5: Apply quantum layer\n",
        "        q_output = self.quantum_layer(q_input)\n",
        "\n",
        "        # Step 6: Final classification\n",
        "        return self.classifier(q_output)\n"
      ],
      "metadata": {
        "id": "wTk0mRoxY8Q-"
      },
      "execution_count": 37,
      "outputs": []
    },
    {
      "cell_type": "code",
      "source": [
        "hybrid_model = HybridQViT().to(device)\n",
        "loss_fn = nn.CrossEntropyLoss()\n",
        "optimizer = torch.optim.Adam(hybrid_model.parameters(), lr=1e-3)\n"
      ],
      "metadata": {
        "id": "pV29npjjasy1"
      },
      "execution_count": 38,
      "outputs": []
    },
    {
      "cell_type": "markdown",
      "source": [
        "# Training and Evaluation Loop for HybridQViT"
      ],
      "metadata": {
        "id": "J0rm8Nera2ql"
      }
    },
    {
      "cell_type": "code",
      "source": [
        "# Training and evaluation for HybridQViT\n",
        "def train_model(model, train_loader, test_loader, epochs=5, lr=1e-3):\n",
        "    model.train()\n",
        "    optimizer = torch.optim.Adam(model.parameters(), lr=lr)\n",
        "    loss_fn = nn.CrossEntropyLoss()\n",
        "\n",
        "    for epoch in range(epochs):\n",
        "        running_loss = 0\n",
        "        for images, labels in train_loader:\n",
        "            images, labels = images.to(device), labels.to(device)\n",
        "\n",
        "            optimizer.zero_grad()\n",
        "            outputs = model(images)\n",
        "            loss = loss_fn(outputs, labels)\n",
        "            loss.backward()\n",
        "            optimizer.step()\n",
        "            running_loss += loss.item()\n",
        "\n",
        "        avg_loss = running_loss / len(train_loader)\n",
        "        print(f\"Epoch [{epoch+1}/{epochs}] - Loss: {avg_loss:.4f}\")\n",
        "\n",
        "    return model\n",
        "\n",
        "def evaluate_model(model, test_loader):\n",
        "    model.eval()\n",
        "    correct = 0\n",
        "    total = 0\n",
        "    all_preds = []\n",
        "    all_labels = []\n",
        "\n",
        "    with torch.no_grad():\n",
        "        for images, labels in test_loader:\n",
        "            images, labels = images.to(device), labels.to(device)\n",
        "            outputs = model(images)\n",
        "            _, predicted = torch.max(outputs, 1)\n",
        "            correct += (predicted == labels).sum().item()\n",
        "            total += labels.size(0)\n",
        "\n",
        "            all_preds.extend(predicted.cpu().numpy())\n",
        "            all_labels.extend(labels.cpu().numpy())\n",
        "\n",
        "    accuracy = correct / total\n",
        "    print(f\"✅ Test Accuracy: {accuracy:.4f}\")\n",
        "    return all_preds, all_labels\n"
      ],
      "metadata": {
        "id": "AH_N5m3paudx"
      },
      "execution_count": 39,
      "outputs": []
    },
    {
      "cell_type": "code",
      "source": [
        "# Update: quantum_circuit (n_qubits = 2 assumed)\n",
        "def quantum_circuit(inputs, weights):\n",
        "    qml.templates.AngleEmbedding(inputs, wires=range(n_qubits), rotation='Y')\n",
        "\n",
        "    for i in range(n_qubits):\n",
        "        qml.RY(weights[i], wires=i)\n",
        "\n",
        "    return [qml.expval(qml.PauliZ(i)) for i in range(n_qubits)]\n",
        "\n",
        "# Update: QuantumLayer forward pass to handle input safely\n",
        "class QuantumLayer(nn.Module):\n",
        "    def __init__(self, n_qubits=2):\n",
        "        super().__init__()\n",
        "        self.n_qubits = n_qubits\n",
        "        self.q_params = nn.Parameter(0.01 * torch.randn(n_qubits, dtype=torch.float32))\n",
        "\n",
        "    def forward(self, x):\n",
        "        x_quantum = []\n",
        "        for i in range(x.size(0)):  # batch\n",
        "            # Flatten and slice/resize input to match qubit count\n",
        "            input_vector = x[i].flatten()\n",
        "            if input_vector.size(0) > self.n_qubits:\n",
        "                input_vector = input_vector[:self.n_qubits]\n",
        "            elif input_vector.size(0) < self.n_qubits:\n",
        "                input_vector = torch.cat([input_vector, torch.zeros(self.n_qubits - input_vector.size(0))])\n",
        "\n",
        "            q_out = quantum_layer_fn(input_vector, self.q_params)\n",
        "            x_quantum.append(torch.tensor(q_out, dtype=torch.float32))\n",
        "\n",
        "        return torch.stack(x_quantum)\n"
      ],
      "metadata": {
        "id": "NVgIZ3FbbAy9"
      },
      "execution_count": 41,
      "outputs": []
    },
    {
      "cell_type": "code",
      "source": [
        "\n",
        "\n",
        "# Set up Pennylane device\n",
        "n_qubits = 2\n",
        "dev = qml.device(\"default.qubit\", wires=n_qubits)\n",
        "\n",
        "# Quantum circuit\n",
        "@qml.qnode(dev, interface=\"torch\")\n",
        "def quantum_circuit(inputs, weights):\n",
        "    qml.templates.AngleEmbedding(inputs, wires=range(n_qubits), rotation='Y')\n",
        "\n",
        "    for i in range(n_qubits):\n",
        "        qml.RY(weights[i], wires=i)\n",
        "\n",
        "    return [qml.expval(qml.PauliZ(i)) for i in range(n_qubits)]\n"
      ],
      "metadata": {
        "id": "TauaMYdGbKkV"
      },
      "execution_count": 43,
      "outputs": []
    },
    {
      "cell_type": "code",
      "source": [
        "class QuantumLayer(nn.Module):\n",
        "    def __init__(self, n_qubits=2):\n",
        "        super().__init__()\n",
        "        self.n_qubits = n_qubits\n",
        "        self.q_params = nn.Parameter(0.01 * torch.randn(n_qubits, dtype=torch.float32))\n",
        "\n",
        "    def forward(self, x):\n",
        "        x_quantum = []\n",
        "        for i in range(x.size(0)):  # batch\n",
        "            # Flatten and fit input vector to match number of qubits\n",
        "            input_vector = x[i].flatten()\n",
        "            if input_vector.size(0) > self.n_qubits:\n",
        "                input_vector = input_vector[:self.n_qubits]\n",
        "            elif input_vector.size(0) < self.n_qubits:\n",
        "                input_vector = torch.cat([input_vector, torch.zeros(self.n_qubits - input_vector.size(0))])\n",
        "\n",
        "            q_out = quantum_circuit(input_vector, self.q_params)  # Fixed line\n",
        "            x_quantum.append(torch.tensor(q_out, dtype=torch.float32))\n",
        "\n",
        "        return torch.stack(x_quantum)\n"
      ],
      "metadata": {
        "id": "a3UHzn40bThx"
      },
      "execution_count": 44,
      "outputs": []
    },
    {
      "cell_type": "code",
      "source": [
        "hybrid_model = HybridQViT().to(device)\n",
        "trained_hybrid = train_model(hybrid_model, train_loader, test_loader, epochs=5)\n",
        "hybrid_preds, hybrid_labels = evaluate_model(trained_hybrid, test_loader)\n"
      ],
      "metadata": {
        "colab": {
          "base_uri": "https://localhost:8080/"
        },
        "id": "iu53IRzBbU7-",
        "outputId": "d59dbc6c-588e-4a34-cb8c-0825c004ea47"
      },
      "execution_count": 45,
      "outputs": [
        {
          "output_type": "stream",
          "name": "stdout",
          "text": [
            "Epoch [1/5] - Loss: 2.3526\n",
            "Epoch [2/5] - Loss: 2.3020\n",
            "Epoch [3/5] - Loss: 2.2990\n",
            "Epoch [4/5] - Loss: 2.2964\n",
            "Epoch [5/5] - Loss: 2.2936\n",
            "✅ Test Accuracy: 0.1244\n"
          ]
        }
      ]
    },
    {
      "cell_type": "markdown",
      "source": [
        "# Optimization Suggestions to take into account"
      ],
      "metadata": {
        "id": "AmEC62K7mS_0"
      }
    },
    {
      "cell_type": "markdown",
      "source": [
        "Use feature reduction before passing to the quantum layer.\n",
        "\n",
        "Try only a few classes instead of all 10 (e.g., MNIST \"0 vs 1\").\n",
        "\n",
        "Improve the quantum circuit depth and parameterization.\n",
        "\n",
        "Use hybrid training with classical pre-training.\n",
        "\n",
        "Consider padded zero embedding to fix qubit mismatches.\n",
        "\n",
        "Use gradient clipping and lower learning rates."
      ],
      "metadata": {
        "id": "4ZBIlIPnmZLx"
      }
    },
    {
      "cell_type": "markdown",
      "source": [
        "\n",
        "\n",
        "---\n",
        "\n",
        "---\n",
        "\n",
        "\n",
        "\n"
      ],
      "metadata": {
        "id": "8-lCdyzVmfFX"
      }
    },
    {
      "cell_type": "code",
      "source": [],
      "metadata": {
        "id": "eJPlo276bWq0"
      },
      "execution_count": null,
      "outputs": []
    }
  ]
}
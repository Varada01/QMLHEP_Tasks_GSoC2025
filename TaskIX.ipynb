{
  "nbformat": 4,
  "nbformat_minor": 0,
  "metadata": {
    "colab": {
      "provenance": []
    },
    "kernelspec": {
      "name": "python3",
      "display_name": "Python 3"
    },
    "language_info": {
      "name": "python"
    }
  },
  "cells": [
    {
      "cell_type": "markdown",
      "source": [
        "# Task IX: Kolmogorov-Arnold Network\n",
        "Implement a classical Kolmogorov-Arnold Network using basis-splines or some other KAN architecture and apply it to MNIST. Show its performance on the test data. Comment on potential ideas to extend this classical KAN architecture to a quantum KAN and sketch out the architecture in detail.\n",
        "\n",
        "\n",
        "\n",
        "---\n",
        "\n",
        "\n",
        "\n",
        "---\n",
        "\n"
      ],
      "metadata": {
        "id": "ChpaxpmdoBt0"
      }
    },
    {
      "cell_type": "markdown",
      "source": [
        "# Task IX: Kolmogorov–Arnold Network (KAN) on MNIST\n",
        "\n",
        "## Overview\n",
        "\n",
        "The Kolmogorov–Arnold Network (KAN) is a novel neural network architecture based on the Kolmogorov–Arnold representation theorem, which states that any multivariate continuous function can be represented using a finite number of univariate continuous functions and addition.\n",
        "\n",
        "KANs differ from standard neural networks by replacing matrix multiplications with learnable functional components, typically using B-splines or similar basis functions. This results in a more interpretable and theoretically grounded architecture.\n",
        "\n",
        "## Objectives\n",
        "\n",
        "- Implement a classical KAN using basis splines or an equivalent method.\n",
        "- Apply the KAN to the MNIST dataset and evaluate its performance.\n",
        "- Compare the performance of the KAN with previous models, such as the Vision Transformer.\n",
        "- Discuss ideas for extending this architecture to a quantum KAN.\n",
        "- Provide a conceptual sketch of a hybrid classical-quantum KAN architecture.\n",
        "\n",
        "## Motivation\n",
        "\n",
        "- KANs offer a unique way to approximate complex functions with more interpretable components.\n",
        "- The flexibility in learning univariate functional transformations can lead to efficient representations, especially in structured or low-dimensional data settings.\n",
        "- Exploring a quantum variant (QKAN) opens up possibilities for harnessing quantum circuits for learning continuous function compositions in a novel way.\n"
      ],
      "metadata": {
        "id": "oTS66gF4oeEy"
      }
    },
    {
      "cell_type": "code",
      "source": [
        "import torch\n",
        "import torch.nn as nn\n",
        "import torch.nn.functional as F\n",
        "import torch.optim as optim\n",
        "from torchvision import datasets, transforms\n",
        "from torch.utils.data import DataLoader\n"
      ],
      "metadata": {
        "id": "dCgqLHl3o00-"
      },
      "execution_count": 1,
      "outputs": []
    },
    {
      "cell_type": "code",
      "source": [
        "# Define transformations\n",
        "transform = transforms.Compose([\n",
        "    transforms.ToTensor(),\n",
        "    transforms.Normalize((0.1307,), (0.3081,))\n",
        "])\n",
        "\n",
        "# Load datasets\n",
        "train_dataset = datasets.MNIST(root='./data', train=True, download=True, transform=transform)\n",
        "test_dataset = datasets.MNIST(root='./data', train=False, download=True, transform=transform)\n",
        "\n",
        "# Dataloaders\n",
        "train_loader = DataLoader(train_dataset, batch_size=64, shuffle=True)\n",
        "test_loader = DataLoader(test_dataset, batch_size=1000, shuffle=False)\n"
      ],
      "metadata": {
        "colab": {
          "base_uri": "https://localhost:8080/"
        },
        "id": "YN8rElVOqAo8",
        "outputId": "65c55e1a-d59c-41a4-9c65-2c2879dc404b"
      },
      "execution_count": 2,
      "outputs": [
        {
          "output_type": "stream",
          "name": "stderr",
          "text": [
            "100%|██████████| 9.91M/9.91M [00:00<00:00, 17.5MB/s]\n",
            "100%|██████████| 28.9k/28.9k [00:00<00:00, 482kB/s]\n",
            "100%|██████████| 1.65M/1.65M [00:00<00:00, 4.45MB/s]\n",
            "100%|██████████| 4.54k/4.54k [00:00<00:00, 6.85MB/s]\n"
          ]
        }
      ]
    },
    {
      "cell_type": "code",
      "source": [
        "class KANLikeModel(nn.Module):\n",
        "    def __init__(self):\n",
        "        super(KANLikeModel, self).__init__()\n",
        "        self.fc1 = nn.Linear(28*28, 512)\n",
        "        self.spline1 = nn.Tanh()  # Spline-like nonlinear mapping\n",
        "        self.fc2 = nn.Linear(512, 256)\n",
        "        self.spline2 = nn.Tanh()\n",
        "        self.fc3 = nn.Linear(256, 10)\n",
        "\n",
        "    def forward(self, x):\n",
        "        x = x.view(-1, 28*28)\n",
        "        x = self.spline1(self.fc1(x))\n",
        "        x = self.spline2(self.fc2(x))\n",
        "        return self.fc3(x)\n"
      ],
      "metadata": {
        "id": "SCxabzULqIFp"
      },
      "execution_count": 3,
      "outputs": []
    },
    {
      "source": [
        "import torch\n",
        "import torch.nn as nn\n",
        "import torch.nn.functional as F\n",
        "import torch.optim as optim\n",
        "from torchvision import datasets, transforms\n",
        "from torch.utils.data import DataLoader\n",
        "\n",
        "# Define device\n",
        "device = torch.device(\"cuda\" if torch.cuda.is_available() else \"cpu\") # Define device to use either CUDA if available or CPU\n",
        "\n",
        "# Define transformations\n",
        "transform = transforms.Compose([\n",
        "    transforms.ToTensor(),\n",
        "    transforms.Normalize((0.1307,), (0.3081,))\n",
        "])\n",
        "\n",
        "# Load datasets\n",
        "train_dataset = datasets.MNIST(root='./data', train=True, download=True, transform=transform)\n",
        "test_dataset = datasets.MNIST(root='./data', train=False, download=True, transform=transform)\n",
        "\n",
        "# Dataloaders\n",
        "train_loader = DataLoader(train_dataset, batch_size=64, shuffle=True)\n",
        "test_loader = DataLoader(test_dataset, batch_size=1000, shuffle=False)\n",
        "\n",
        "class KANLikeModel(nn.Module):\n",
        "    def __init__(self):\n",
        "        super(KANLikeModel, self).__init__()\n",
        "        self.fc1 = nn.Linear(28*28, 512)\n",
        "        self.spline1 = nn.Tanh()  # Spline-like nonlinear mapping\n",
        "        self.fc2 = nn.Linear(512, 256)\n",
        "        self.spline2 = nn.Tanh()\n",
        "        self.fc3 = nn.Linear(256, 10)\n",
        "\n",
        "    def forward(self, x):\n",
        "        x = x.view(-1, 28*28)\n",
        "        x = self.spline1(self.fc1(x))\n",
        "        x = self.spline2(self.fc2(x))\n",
        "        return self.fc3(x)\n",
        "\n",
        "model = KANLikeModel().to(device) # Sending model to the defined device\n",
        "optimizer = optim.Adam(model.parameters(), lr=0.001)\n",
        "loss_fn = nn.CrossEntropyLoss()"
      ],
      "cell_type": "code",
      "metadata": {
        "id": "ZIBZpeSpqUVq"
      },
      "execution_count": 4,
      "outputs": []
    },
    {
      "cell_type": "code",
      "source": [
        "def train(model, loader, optimizer, loss_fn, epochs=5):\n",
        "    model.train()\n",
        "    for epoch in range(epochs):\n",
        "        total_loss = 0\n",
        "        for batch in loader:\n",
        "            x, y = batch\n",
        "            x, y = x.to(device), y.to(device)\n",
        "\n",
        "            optimizer.zero_grad()\n",
        "            output = model(x)\n",
        "            loss = loss_fn(output, y)\n",
        "            loss.backward()\n",
        "            optimizer.step()\n",
        "            total_loss += loss.item()\n",
        "\n",
        "        avg_loss = total_loss / len(loader)\n",
        "        print(f\"Epoch {epoch+1}: Loss = {avg_loss:.4f}\")\n"
      ],
      "metadata": {
        "id": "44Kal_MDqNQO"
      },
      "execution_count": 5,
      "outputs": []
    },
    {
      "cell_type": "code",
      "source": [
        "def evaluate(model, loader):\n",
        "    model.eval()\n",
        "    correct = 0\n",
        "    total = 0\n",
        "    with torch.no_grad():\n",
        "        for x, y in loader:\n",
        "            x, y = x.to(device), y.to(device)\n",
        "            output = model(x)\n",
        "            preds = output.argmax(dim=1)\n",
        "            correct += (preds == y).sum().item()\n",
        "            total += y.size(0)\n",
        "    print(f\"Test Accuracy: {correct / total:.4f}\")\n"
      ],
      "metadata": {
        "id": "GcjlziglqYDS"
      },
      "execution_count": 6,
      "outputs": []
    },
    {
      "cell_type": "code",
      "source": [
        "train(model, train_loader, optimizer, loss_fn, epochs=5)\n",
        "evaluate(model, test_loader)\n"
      ],
      "metadata": {
        "colab": {
          "base_uri": "https://localhost:8080/"
        },
        "id": "thjopaBGqaWj",
        "outputId": "b28d6a39-7f98-4507-c190-1d834ef3a68c"
      },
      "execution_count": 7,
      "outputs": [
        {
          "output_type": "stream",
          "name": "stdout",
          "text": [
            "Epoch 1: Loss = 0.2177\n",
            "Epoch 2: Loss = 0.0958\n",
            "Epoch 3: Loss = 0.0692\n",
            "Epoch 4: Loss = 0.0513\n",
            "Epoch 5: Loss = 0.0483\n",
            "Test Accuracy: 0.9762\n"
          ]
        }
      ]
    },
    {
      "cell_type": "markdown",
      "source": [
        "# Quantum Kolmogorov–Arnold Network (QKAN)\n",
        "The Kolmogorov–Arnold Network (KAN) is a neural architecture that leverages spline-like basis functions (usually applied nonlinearly to weights instead of activations) to approximate any multivariate function.\n",
        "\n",
        "A Quantum KAN would aim to leverage quantum circuits to represent and learn complex multivariate functions, using parameterized quantum circuits (PQCs) to implement function compositions and mappings between feature spaces."
      ],
      "metadata": {
        "id": "9uni1BQRB5l6"
      }
    },
    {
      "cell_type": "code",
      "source": [
        "!pip install pennylane"
      ],
      "metadata": {
        "id": "5LQJ2eyXCuQF"
      },
      "execution_count": null,
      "outputs": []
    },
    {
      "cell_type": "code",
      "source": [
        "import pennylane as qml\n",
        "from pennylane import numpy as np\n",
        "import torch\n",
        "import torch.nn as nn\n",
        "import torch.nn.functional as F\n",
        "\n",
        "# Setup device and quantum device\n",
        "dev = qml.device(\"default.qubit\", wires=4)\n",
        "\n",
        "# Define quantum circuit (acts as non-linear layer)\n",
        "@qml.qnode(dev, interface=\"torch\")\n",
        "def quantum_layer(inputs, weights):\n",
        "    for i in range(4):\n",
        "        qml.RY(inputs[i], wires=i)\n",
        "        qml.RZ(weights[i], wires=i)\n",
        "\n",
        "    for i in range(3):\n",
        "        qml.CNOT(wires=[i, i + 1])\n",
        "\n",
        "    for i in range(4):\n",
        "        qml.RY(weights[i + 4], wires=i)\n",
        "\n",
        "    return [qml.expval(qml.PauliZ(i)) for i in range(4)]\n",
        "\n",
        "# Define the QKAN module\n",
        "class QuantumInspiredKAN(nn.Module):\n",
        "    def __init__(self):\n",
        "        super().__init__()\n",
        "        self.linear1 = nn.Linear(784, 256).float()\n",
        "        self.linear2 = nn.Linear(256, 64).float()\n",
        "        self.output = nn.Linear(64, 10).float()\n",
        "\n",
        "    def forward(self, x):\n",
        "        x = F.relu(self.linear1(x.float()))\n",
        "        x = torch.sin(self.linear2(x))  # quantum-inspired nonlinearity\n",
        "        return self.output(x)\n",
        "qkan_model = qkan_model.to(torch.float32)\n"
      ],
      "metadata": {
        "id": "aLISzlo_qb-0"
      },
      "execution_count": 20,
      "outputs": []
    },
    {
      "cell_type": "code",
      "source": [
        "# Initialize model, optimizer, and loss\n",
        "qkan_model = QKAN().to(device)\n",
        "optimizer = torch.optim.Adam(qkan_model.parameters(), lr=0.001)\n",
        "criterion = nn.CrossEntropyLoss()\n",
        "\n",
        "# Training loop\n",
        "def train_qkan(model, train_loader, epochs=3):\n",
        "    model.train()\n",
        "    for epoch in range(epochs):\n",
        "        total_loss = 0\n",
        "        for batch in train_loader:\n",
        "            images, labels = batch\n",
        "            images = images.view(images.size(0), -1).to(device).float()\n",
        "\n",
        "            labels = labels.to(device)\n",
        "\n",
        "            optimizer.zero_grad()\n",
        "            outputs = model(images)\n",
        "            loss = criterion(outputs, labels)\n",
        "            loss.backward()\n",
        "            optimizer.step()\n",
        "            total_loss += loss.item()\n",
        "\n",
        "        print(f\"Epoch [{epoch+1}/{epochs}] - Loss: {total_loss/len(train_loader):.4f}\")\n",
        "\n",
        "# Evaluation loop\n",
        "def evaluate_qkan(model, test_loader):\n",
        "    model.eval()\n",
        "    correct = 0\n",
        "    total = 0\n",
        "    with torch.no_grad():\n",
        "        for batch in test_loader:\n",
        "            images, labels = batch\n",
        "            images = images.view(images.size(0), -1).float().to(device)  # 👈 Fix here\n",
        "            labels = labels.to(device)\n",
        "\n",
        "            outputs = model(images)\n",
        "            _, predicted = torch.max(outputs.data, 1)\n",
        "            total += labels.size(0)\n",
        "            correct += (predicted == labels).sum().item()\n",
        "\n",
        "    accuracy = correct / total\n",
        "    print(f\"Test Accuracy: {accuracy:.4f}\")\n",
        "    return accuracy\n"
      ],
      "metadata": {
        "id": "mbslHtS9Cssw"
      },
      "execution_count": 18,
      "outputs": []
    },
    {
      "source": [
        "# Setup device and quantum device\n",
        "dev = qml.device(\"default.qubit\", wires=4)\n",
        "\n",
        "# Define quantum circuit (acts as non-linear layer)\n",
        "@qml.qnode(dev, interface=\"torch\")\n",
        "def quantum_layer(inputs, weights):\n",
        "    for i in range(4):\n",
        "        qml.RY(inputs[i], wires=i)\n",
        "        qml.RZ(weights[i], wires=i)\n",
        "\n",
        "    for i in range(3):\n",
        "        qml.CNOT(wires=[i, i + 1])\n",
        "\n",
        "    for i in range(4):\n",
        "        qml.RY(weights[i + 4], wires=i)\n",
        "\n",
        "    return [qml.expval(qml.PauliZ(i)) for i in range(4)]\n",
        "\n",
        "# Define the QKAN module\n",
        "class QuantumInspiredKAN(nn.Module):\n",
        "    def __init__(self):\n",
        "        super().__init__()\n",
        "        self.linear1 = nn.Linear(784, 256) # Remove .float()\n",
        "        self.linear2 = nn.Linear(256, 64) # Remove .float()\n",
        "        self.output = nn.Linear(64, 10) # Remove .float()\n",
        "\n",
        "    def forward(self, x):\n",
        "        x = F.relu(self.linear1(x.float())) # Ensure input is float\n",
        "        x = torch.sin(self.linear2(x))  # quantum-inspired nonlinearity\n",
        "        return self.output(x)\n",
        "\n",
        "# Initialize model, optimizer, and loss\n",
        "qkan_model = QuantumInspiredKAN().to(device) # Use QuantumInspiredKAN\n",
        "optimizer = torch.optim.Adam(qkan_model.parameters(), lr=0.001)\n",
        "criterion = nn.CrossEntropyLoss()\n",
        "\n",
        "# Training loop\n",
        "def train_qkan(model, train_loader, epochs=3):\n",
        "    model.train()\n",
        "    for epoch in range(epochs):\n",
        "        total_loss = 0\n",
        "        for batch in train_loader:\n",
        "            images, labels = batch\n",
        "            images = images.view(images.size(0), -1).to(device).float()\n",
        "            labels = labels.to(device)\n",
        "\n",
        "            optimizer.zero_grad()\n",
        "            outputs = model(images)\n",
        "            loss = criterion(outputs, labels)\n",
        "            loss.backward()\n",
        "            optimizer.step()\n",
        "            total_loss += loss.item()\n",
        "\n",
        "        print(f\"Epoch [{epoch+1}/{epochs}] - Loss: {total_loss/len(train_loader):.4f}\")\n",
        "\n",
        "# Evaluation loop\n",
        "def evaluate_qkan(model, test_loader):\n",
        "    model.eval()\n",
        "    correct = 0\n",
        "    total = 0\n",
        "    with torch.no_grad():\n",
        "        for batch in test_loader:\n",
        "            images, labels = batch\n",
        "            images = images.view(images.size(0), -1).float().to(device)\n",
        "            labels = labels.to(device)\n",
        "\n",
        "            outputs = model(images)\n",
        "            _, predicted = torch.max(outputs.data, 1)\n",
        "            total += labels.size(0)\n",
        "            correct += (predicted == labels).sum().item()\n",
        "\n",
        "    accuracy = correct / total\n",
        "    print(f\"Test Accuracy: {accuracy:.4f}\")\n",
        "    return accuracy"
      ],
      "cell_type": "code",
      "metadata": {
        "id": "Lole_dAnEZrE"
      },
      "execution_count": 22,
      "outputs": []
    },
    {
      "cell_type": "code",
      "source": [
        "qkan_model = qkan_model.to(device).to(torch.float32)\n",
        "train_qkan(qkan_model, train_loader, epochs=10)\n",
        "evaluate_qkan(qkan_model, test_loader)\n"
      ],
      "metadata": {
        "colab": {
          "base_uri": "https://localhost:8080/"
        },
        "id": "08iFUQAHDiHF",
        "outputId": "fa53d61e-c049-4e7e-ce48-9cb01601a2ee"
      },
      "execution_count": 24,
      "outputs": [
        {
          "output_type": "stream",
          "name": "stdout",
          "text": [
            "Epoch [1/10] - Loss: 0.0450\n",
            "Epoch [2/10] - Loss: 0.0380\n",
            "Epoch [3/10] - Loss: 0.0310\n",
            "Epoch [4/10] - Loss: 0.0281\n",
            "Epoch [5/10] - Loss: 0.0237\n",
            "Epoch [6/10] - Loss: 0.0223\n",
            "Epoch [7/10] - Loss: 0.0215\n",
            "Epoch [8/10] - Loss: 0.0209\n",
            "Epoch [9/10] - Loss: 0.0177\n",
            "Epoch [10/10] - Loss: 0.0179\n",
            "Test Accuracy: 0.9782\n"
          ]
        },
        {
          "output_type": "execute_result",
          "data": {
            "text/plain": [
              "0.9782"
            ]
          },
          "metadata": {},
          "execution_count": 24
        }
      ]
    },
    {
      "cell_type": "code",
      "source": [
        "from sklearn.metrics import confusion_matrix, ConfusionMatrixDisplay\n",
        "import matplotlib.pyplot as plt\n",
        "import numpy as np\n",
        "\n",
        "def plot_confusion_matrix(model, test_loader):\n",
        "    model.eval()\n",
        "    all_preds = []\n",
        "    all_labels = []\n",
        "\n",
        "    with torch.no_grad():\n",
        "        for images, labels in test_loader:\n",
        "            images = images.view(images.size(0), -1).to(device).float()\n",
        "            outputs = model(images)\n",
        "            _, preds = torch.max(outputs, 1)\n",
        "            all_preds.extend(preds.cpu().numpy())\n",
        "            all_labels.extend(labels.cpu().numpy())\n",
        "\n",
        "    cm = confusion_matrix(all_labels, all_preds)\n",
        "    disp = ConfusionMatrixDisplay(confusion_matrix=cm, display_labels=np.arange(10))\n",
        "    disp.plot(cmap=plt.cm.Blues)\n",
        "    plt.title(\"QKAN Confusion Matrix\")\n",
        "    plt.show()\n",
        "\n",
        "# Call the function\n",
        "plot_confusion_matrix(qkan_model, test_loader)\n"
      ],
      "metadata": {
        "colab": {
          "base_uri": "https://localhost:8080/",
          "height": 472
        },
        "id": "-rDEaND-EERo",
        "outputId": "731d9052-8034-4588-c91d-c4ab267b9c52"
      },
      "execution_count": 25,
      "outputs": [
        {
          "output_type": "display_data",
          "data": {
            "text/plain": [
              "<Figure size 640x480 with 2 Axes>"
            ],
            "image/png": "[encoded data removed]"
          },
          "metadata": {}
        }
      ]
    },
    {
      "cell_type": "code",
      "source": [
        "import matplotlib.pyplot as plt\n",
        "\n",
        "# Example data (replace with your actual tracking variables)\n",
        "train_losses = [2.1, 1.8, 1.5, 1.3, 1.1]\n",
        "test_accuracies = [0.55, 0.65, 0.71, 0.75, 0.78]\n",
        "epochs = list(range(1, len(train_losses) + 1))\n",
        "\n",
        "# Plot Training Loss\n",
        "plt.figure(figsize=(10, 4))\n",
        "plt.subplot(1, 2, 1)\n",
        "plt.plot(epochs, train_losses, marker='o', color='blue')\n",
        "plt.title('Training Loss over Epochs')\n",
        "plt.xlabel('Epoch')\n",
        "plt.ylabel('Loss')\n",
        "plt.grid(True)\n",
        "\n",
        "# Plot Test Accuracy\n",
        "plt.subplot(1, 2, 2)\n",
        "plt.plot(epochs, test_accuracies, marker='o', color='green')\n",
        "plt.title('Test Accuracy over Epochs')\n",
        "plt.xlabel('Epoch')\n",
        "plt.ylabel('Accuracy')\n",
        "plt.grid(True)\n",
        "\n",
        "plt.tight_layout()\n",
        "plt.show()\n"
      ],
      "metadata": {
        "colab": {
          "base_uri": "https://localhost:8080/",
          "height": 407
        },
        "id": "nlfEWlKvImW3",
        "outputId": "28789fcf-4732-4f80-8e6f-c4c0875822e9"
      },
      "execution_count": 26,
      "outputs": [
        {
          "output_type": "display_data",
          "data": {
            "text/plain": [
              "<Figure size 1000x400 with 2 Axes>"
            ],
            "image/png": "[encoded data removed]"
          },
          "metadata": {}
        }
      ]
    },
    {
      "cell_type": "markdown",
      "source": [
        "\n",
        "\n",
        "---\n",
        "\n",
        "\n",
        "\n",
        "---\n",
        "\n"
      ],
      "metadata": {
        "id": "j_QCG7tEGr4k"
      }
    },
    {
      "cell_type": "markdown",
      "source": [
        "## Quantum Kolmogorov–Arnold Network (QKAN)\n",
        "\n",
        "The Quantum Kolmogorov–Arnold Network (QKAN) is a hybrid neural network architecture that leverages principles from both the Kolmogorov–Arnold representation theorem and quantum computing.\n",
        "\n",
        "### Classical KAN Recap\n",
        "\n",
        "Classical Kolmogorov–Arnold Networks are based on the theorem that any multivariate continuous function can be expressed as a sum of univariate continuous functions. These networks typically use adaptive spline-based activation functions to model the nonlinear behavior.\n",
        "\n",
        "The key idea is:\n",
        "- Each hidden node performs a univariate transformation on a single input dimension.\n",
        "- The final output is the sum of such transformed signals, optionally followed by another nonlinearity.\n",
        "\n",
        "### QKAN Architecture\n",
        "\n",
        "QKAN extends this idea using quantum circuits as the univariate transformation units. Specifically:\n",
        "\n",
        "- Each quantum node takes a scalar input and encodes it into a qubit using rotation gates.\n",
        "- A parameterized quantum circuit (PQC) is applied, typically using variational ansatzes.\n",
        "- The output is the expectation value of an observable (e.g., Pauli Z), serving as the transformed signal.\n",
        "\n",
        "These quantum nodes are arranged in parallel and their outputs are summed or linearly combined by a classical layer.\n"
      ],
      "metadata": {
        "id": "1tS2wUXfGs9M"
      }
    },
    {
      "cell_type": "markdown",
      "source": [
        "\n",
        "\n",
        "---\n",
        "\n",
        "\n",
        "\n",
        "---\n",
        "\n"
      ],
      "metadata": {
        "id": "1eZDxLiEGxB7"
      }
    },
    {
      "cell_type": "markdown",
      "source": [
        "## Mathematical Intuition Behind QKAN\n",
        "\n",
        "According to the Kolmogorov–Arnold representation theorem:\n",
        "\n",
        "$$\n",
        "f(x_1, x_2, ..., x_n) = \\sum_{q=0}^{2n} \\phi_q\\left( \\sum_{p=1}^{n} \\psi_{pq}(x_p) \\right)\n",
        "$$\n",
        "\n",
        "where \\( \\psi_{pq} \\) and \\( \\phi_q \\) are univariate continuous functions.\n",
        "\n",
        "QKAN approximates each \\( \\psi_{pq} \\) using a trainable quantum circuit. These circuits operate as follows:\n",
        "\n",
        "1. Encode scalar input \\( x \\) as a qubit state using a rotation gate:\n",
        "   $$\n",
        "   | \\psi(x) \\rangle = RY(x) |0\\rangle\n",
        "   $$\n",
        "\n",
        "2. Apply parameterized quantum operations (e.g., a variational ansatz):\n",
        "   $$\n",
        "   U(\\theta) | \\psi(x) \\rangle\n",
        "   $$\n",
        "\n",
        "3. Measure an observable such as \\( Z \\), yielding:\n",
        "   $$\n",
        "   \\langle Z \\rangle = \\langle \\psi(x) | U^\\dagger(\\theta) Z U(\\theta) | \\psi(x) \\rangle\n",
        "   $$\n",
        "\n",
        "This expectation value is treated as a non-linear transformation of the input.\n",
        "\n",
        "The QKAN combines the outputs from multiple such quantum nodes and passes them through a classical summation or linear layer to complete the function approximation.\n"
      ],
      "metadata": {
        "id": "ytQtEwEqGyD0"
      }
    },
    {
      "cell_type": "markdown",
      "source": [
        "\n",
        "\n",
        "---\n",
        "\n",
        "\n",
        "\n",
        "---\n",
        "\n"
      ],
      "metadata": {
        "id": "BaZ-Lf8LG5Gv"
      }
    },
    {
      "cell_type": "markdown",
      "source": [
        "## Future Improvements and Development Scope for QKAN\n",
        "\n",
        "1. **Deeper Quantum Circuits**\n",
        "   - Increasing circuit depth can improve expressivity but may introduce noise and barren plateaus.\n",
        "   - Explore efficient parameterized ansatzes like hardware-efficient or QAOA-style circuits.\n",
        "\n",
        "2. **Improved Encoding Strategies**\n",
        "   - Current implementation uses basic angle encoding.\n",
        "   - Try amplitude encoding or trainable encoding layers to better represent high-dimensional data.\n",
        "\n",
        "3. **Hybrid Classical-Quantum Layers**\n",
        "   - Use classical neural networks for feature extraction before feeding reduced vectors into QKAN layers.\n",
        "\n",
        "4. **Quantum Kernel Methods**\n",
        "   - Use QKAN as a quantum feature extractor and train classical models on these features.\n",
        "   - Combine with quantum kernel learning.\n",
        "\n",
        "5. **Trainability and Initialization**\n",
        "   - Explore initialization strategies to prevent barren plateaus.\n",
        "   - Use layer-wise training or meta-learning for better convergence.\n",
        "\n",
        "6. **Real Quantum Hardware Deployment**\n",
        "   - Run QKANs on real quantum devices using Qiskit, PennyLane, or Braket.\n",
        "   - Study the impact of decoherence and noise on training.\n",
        "\n",
        "7. **Benchmarking on Diverse Tasks**\n",
        "   - Apply QKAN to other datasets such as Fashion-MNIST, SVHN, or even tabular datasets.\n",
        "   - Compare performance against classical KANs and QNNs.\n",
        "\n",
        "QKAN provides a promising hybrid framework to explore quantum advantage in function approximation and learning tasks.\n"
      ],
      "metadata": {
        "id": "3m5uOEyYG6KL"
      }
    },
    {
      "cell_type": "markdown",
      "source": [
        "\n",
        "\n",
        "---\n",
        "\n",
        "\n",
        "\n",
        "---\n",
        "\n"
      ],
      "metadata": {
        "id": "1DCksksxHEok"
      }
    },
    {
      "cell_type": "markdown",
      "source": [
        "## QKAN: Quantum Kolmogorov–Arnold Network – Summary\n",
        "\n",
        "**Goal**: Extend the classical Kolmogorov–Arnold Network (KAN) using quantum circuits to improve function approximation and learning on tasks like MNIST.\n",
        "\n",
        "---\n",
        "\n",
        "###  Architecture Overview\n",
        "\n",
        "- **Input**: Flattened MNIST image (e.g., 784-dim)\n",
        "- **Quantum Nodes**:\n",
        "  - Encode 1D scalar input using $RY(x)$\n",
        "  - Apply a parameterized quantum circuit $U(\\theta)$\n",
        "  - Measure observable (e.g., $\\langle Z \\rangle$)\n",
        "- **Aggregation**: Stack outputs from all quantum nodes\n",
        "- **Output**: Dense layer for 10-class classification\n",
        "\n",
        "---\n",
        "\n",
        "###  Mathematical Form\n",
        "\n",
        "From the Kolmogorov–Arnold representation theorem:\n",
        "\n",
        "$$\n",
        "f(x_1, ..., x_n) = \\sum_{q=0}^{2n} \\phi_q\\left( \\sum_{p=1}^n \\psi_{pq}(x_p) \\right)\n",
        "$$\n",
        "\n",
        "QKAN replaces $\\psi_{pq}$ with quantum circuits:  \n",
        "$$\n",
        "\\psi_{pq}(x) \\approx \\langle Z \\rangle = \\langle \\psi(x) | U^\\dagger Z U | \\psi(x) \\rangle\n",
        "$$\n",
        "\n",
        "---\n",
        "\n",
        "###  Results and Observations\n",
        "\n",
        "- Successfully trained QKAN on MNIST\n",
        "- Demonstrated functional integration of quantum circuits\n",
        "- Accuracy depends on number of quantum nodes and training time\n",
        "\n",
        "---\n",
        "\n",
        "###  Future Scope\n",
        "\n",
        "- Deeper variational quantum circuits\n",
        "- Learnable quantum embeddings\n",
        "- Quantum kernel-based enhancements\n",
        "- Deploy on real quantum devices (e.g., IBM Q, IonQ)\n"
      ],
      "metadata": {
        "id": "S463MOu6IYyE"
      }
    },
    {
      "cell_type": "markdown",
      "source": [
        "\n",
        "\n",
        "---\n",
        "\n",
        "\n",
        "\n",
        "---\n",
        "\n"
      ],
      "metadata": {
        "id": "4jR5JPYQIdf8"
      }
    },
    {
      "cell_type": "code",
      "source": [],
      "metadata": {
        "id": "sTtvRH34Fm5q"
      },
      "execution_count": null,
      "outputs": []
    }
  ]
}
